{
 "cells": [
  {
   "cell_type": "markdown",
   "id": "de3b5d4c",
   "metadata": {},
   "source": [
    "# 🧠 Grafana Dashboard Summarizer\n",
    "Simulate reading a Grafana dashboard JSON and summarize its panels using GPT or plain logic."
   ]
  },
  {
   "cell_type": "code",
   "execution_count": 1,
   "id": "0abf3aaf",
   "metadata": {},
   "outputs": [],
   "source": [
    "import os\n",
    "from dotenv import load_dotenv\n",
    "from IPython.display import Markdown, display\n",
    "from openai import OpenAI\n",
    "import json\n",
    "import pandas as pd"
   ]
  },
  {
   "cell_type": "code",
   "execution_count": 2,
   "id": "ad82ca65",
   "metadata": {},
   "outputs": [
    {
     "name": "stdout",
     "output_type": "stream",
     "text": [
      "Dashboard Title: Mock System Metrics Dashboard\n",
      "Total Panels: 4\n",
      "\n",
      "- CPU Usage (%) (stat)\n",
      "- Memory Usage (gauge)\n",
      "- Disk Read Errors (stat)\n",
      "- GPU Usage (%) (gauge)\n"
     ]
    }
   ],
   "source": [
    "\n",
    "\n",
    "with open(\"mock_grafana_dashboard.json\", \"r\") as f:\n",
    "    data = json.load(f)\n",
    "\n",
    "dashboard = data[\"dashboard\"]\n",
    "panels = dashboard[\"panels\"]\n",
    "print(f\"Dashboard Title: {dashboard['title']}\")\n",
    "print(f\"Total Panels: {len(panels)}\\n\")\n",
    "for p in panels:\n",
    "    print(f\"- {p['title']} ({p['type']})\")\n"
   ]
  },
  {
   "cell_type": "code",
   "execution_count": 3,
   "id": "1bf45c0f",
   "metadata": {},
   "outputs": [
    {
     "data": {
      "text/html": [
       "<div>\n",
       "<style scoped>\n",
       "    .dataframe tbody tr th:only-of-type {\n",
       "        vertical-align: middle;\n",
       "    }\n",
       "\n",
       "    .dataframe tbody tr th {\n",
       "        vertical-align: top;\n",
       "    }\n",
       "\n",
       "    .dataframe thead th {\n",
       "        text-align: right;\n",
       "    }\n",
       "</style>\n",
       "<table border=\"1\" class=\"dataframe\">\n",
       "  <thead>\n",
       "    <tr style=\"text-align: right;\">\n",
       "      <th></th>\n",
       "      <th>Title</th>\n",
       "      <th>Type</th>\n",
       "      <th>Unit</th>\n",
       "      <th>Thresholds</th>\n",
       "    </tr>\n",
       "  </thead>\n",
       "  <tbody>\n",
       "    <tr>\n",
       "      <th>0</th>\n",
       "      <td>CPU Usage (%)</td>\n",
       "      <td>stat</td>\n",
       "      <td>percent</td>\n",
       "      <td>[{'color': 'green', 'value': None}, {'color': ...</td>\n",
       "    </tr>\n",
       "    <tr>\n",
       "      <th>1</th>\n",
       "      <td>Memory Usage</td>\n",
       "      <td>gauge</td>\n",
       "      <td>bytes</td>\n",
       "      <td>[{'color': 'green', 'value': None}, {'color': ...</td>\n",
       "    </tr>\n",
       "    <tr>\n",
       "      <th>2</th>\n",
       "      <td>Disk Read Errors</td>\n",
       "      <td>stat</td>\n",
       "      <td>short</td>\n",
       "      <td>[{'color': 'green', 'value': None}, {'color': ...</td>\n",
       "    </tr>\n",
       "    <tr>\n",
       "      <th>3</th>\n",
       "      <td>GPU Usage (%)</td>\n",
       "      <td>gauge</td>\n",
       "      <td>percent</td>\n",
       "      <td>[{'color': 'green', 'value': None}, {'color': ...</td>\n",
       "    </tr>\n",
       "  </tbody>\n",
       "</table>\n",
       "</div>"
      ],
      "text/plain": [
       "              Title   Type     Unit  \\\n",
       "0     CPU Usage (%)   stat  percent   \n",
       "1      Memory Usage  gauge    bytes   \n",
       "2  Disk Read Errors   stat    short   \n",
       "3     GPU Usage (%)  gauge  percent   \n",
       "\n",
       "                                          Thresholds  \n",
       "0  [{'color': 'green', 'value': None}, {'color': ...  \n",
       "1  [{'color': 'green', 'value': None}, {'color': ...  \n",
       "2  [{'color': 'green', 'value': None}, {'color': ...  \n",
       "3  [{'color': 'green', 'value': None}, {'color': ...  "
      ]
     },
     "execution_count": 3,
     "metadata": {},
     "output_type": "execute_result"
    }
   ],
   "source": [
    "# Extracting panel data\n",
    "\n",
    "panel_data = []\n",
    "for p in panels:\n",
    "    thresholds = p.get(\"fieldConfig\", {}).get(\"defaults\", {}).get(\"thresholds\", {}).get(\"steps\", [])\n",
    "    panel_data.append({\n",
    "        \"Title\": p[\"title\"],\n",
    "        \"Type\": p[\"type\"],\n",
    "        \"Unit\": p.get(\"fieldConfig\", {}).get(\"defaults\", {}).get(\"unit\", \"N/A\"),\n",
    "        \"Thresholds\": thresholds\n",
    "    })\n",
    "\n",
    "df = pd.DataFrame(panel_data)\n",
    "df\n"
   ]
  },
  {
   "cell_type": "code",
   "execution_count": 4,
   "id": "90b67133",
   "metadata": {},
   "outputs": [
    {
     "name": "stdout",
     "output_type": "stream",
     "text": [
      "\n",
      "You are a helpful assistant summarizing a system monitoring dashboard.\n",
      "\n",
      "Dashboard: Mock System Metrics Dashboard\n",
      "Panels:\n",
      "- CPU Usage (%) [stat] - Unit: percent, Thresholds: [{'color': 'green', 'value': None}, {'color': 'orange', 'value': 70}, {'color': 'red', 'value': 90}]\n",
      "- Memory Usage [gauge] - Unit: bytes, Thresholds: [{'color': 'green', 'value': None}, {'color': 'orange', 'value': 12000000000.0}, {'color': 'red', 'value': 14000000000.0}]\n",
      "- Disk Read Errors [stat] - Unit: short, Thresholds: [{'color': 'green', 'value': None}, {'color': 'orange', 'value': 5}, {'color': 'red', 'value': 10}]\n",
      "- GPU Usage (%) [gauge] - Unit: percent, Thresholds: [{'color': 'green', 'value': None}, {'color': 'orange', 'value': 75}, {'color': 'red', 'value': 90}]\n",
      "\n"
     ]
    }
   ],
   "source": [
    "\n",
    "summary_prompt = f\"\"\"\n",
    "You are a helpful assistant summarizing a system monitoring dashboard.\n",
    "\n",
    "Dashboard: {dashboard['title']}\n",
    "Panels:\n",
    "\"\"\"\n",
    "for idx, row in df.iterrows():\n",
    "    summary_prompt += f\"- {row['Title']} [{row['Type']}] - Unit: {row['Unit']}, Thresholds: {row['Thresholds']}\\n\"\n",
    "\n",
    "print(summary_prompt)\n"
   ]
  },
  {
   "cell_type": "code",
   "execution_count": 5,
   "id": "69a4208c",
   "metadata": {},
   "outputs": [
    {
     "name": "stdout",
     "output_type": "stream",
     "text": [
      "API key found and looks good so far!\n"
     ]
    }
   ],
   "source": [
    "\n",
    "\n",
    "load_dotenv(override=True)\n",
    "api_key = os.getenv('OPENAI_API_KEY')\n",
    "# Check the key\n",
    "\n",
    "if not api_key:\n",
    "    print(\"No API key was found - please head over to the troubleshooting notebook in this folder to identify & fix!\")\n",
    "elif not api_key.startswith(\"sk-proj-\"):\n",
    "    print(\"An API key was found, but it doesn't start sk-proj-; please check you're using the right key - see troubleshooting notebook\")\n",
    "elif api_key.strip() != api_key:\n",
    "    print(\"An API key was found, but it looks like it might have space or tab characters at the start or end - please remove them - see troubleshooting notebook\")\n",
    "else:\n",
    "    print(\"API key found and looks good so far!\")\n"
   ]
  },
  {
   "cell_type": "code",
   "execution_count": 6,
   "id": "2eee5a32",
   "metadata": {},
   "outputs": [],
   "source": [
    "openai = OpenAI()"
   ]
  },
  {
   "cell_type": "code",
   "execution_count": 7,
   "id": "660eedb7",
   "metadata": {},
   "outputs": [],
   "source": [
    "def summarize():\n",
    "    response = openai.chat.completions.create(\n",
    "    model=\"gpt-4o-mini\",\n",
    "    messages=[\n",
    "        {\"role\": \"system\", \"content\": \"You are a Grafana dashboard summarizer.\"},\n",
    "        {\"role\": \"user\", \"content\": summary_prompt}\n",
    "    ]\n",
    ")\n",
    "    return response.choices[0].message.content"
   ]
  },
  {
   "cell_type": "code",
   "execution_count": 8,
   "id": "55f57d56",
   "metadata": {},
   "outputs": [
    {
     "data": {
      "text/markdown": [
       "### Mock System Metrics Dashboard Summary\n",
       "\n",
       "**1. CPU Usage (%)**\n",
       "   - **Type:** Stat\n",
       "   - **Unit:** Percent\n",
       "   - **Current Value:** (Value not provided)\n",
       "   - **Thresholds:**\n",
       "     - Green: Normal operation\n",
       "     - Orange: Warning at 70%\n",
       "     - Red: Critical at 90%\n",
       "\n",
       "**2. Memory Usage**\n",
       "   - **Type:** Gauge\n",
       "   - **Unit:** Bytes\n",
       "   - **Current Value:** (Value not provided)\n",
       "   - **Thresholds:**\n",
       "     - Green: Normal operation\n",
       "     - Orange: Warning at 12 GB (12,000,000,000 bytes)\n",
       "     - Red: Critical at 14 GB (14,000,000,000 bytes)\n",
       "\n",
       "**3. Disk Read Errors**\n",
       "   - **Type:** Stat\n",
       "   - **Unit:** Short (number of errors)\n",
       "   - **Current Value:** (Value not provided)\n",
       "   - **Thresholds:**\n",
       "     - Green: Normal operation\n",
       "     - Orange: Warning at 5 errors\n",
       "     - Red: Critical at 10 errors\n",
       "\n",
       "**4. GPU Usage (%)**\n",
       "   - **Type:** Gauge\n",
       "   - **Unit:** Percent\n",
       "   - **Current Value:** (Value not provided)\n",
       "   - **Thresholds:**\n",
       "     - Green: Normal operation\n",
       "     - Orange: Warning at 75%\n",
       "     - Red: Critical at 90%\n",
       "\n",
       "### Conclusion\n",
       "This dashboard provides crucial insights into system performance, monitoring CPU and GPU usage percentages, memory usage in bytes, and the count of disk read errors, helping to maintain optimal system operation and alerting for potential issues."
      ],
      "text/plain": [
       "<IPython.core.display.Markdown object>"
      ]
     },
     "metadata": {},
     "output_type": "display_data"
    }
   ],
   "source": [
    "\n",
    "summary = summarize()\n",
    "display(Markdown(summary))"
   ]
  },
  {
   "cell_type": "code",
   "execution_count": null,
   "id": "10dbfd6c",
   "metadata": {},
   "outputs": [],
   "source": []
  }
 ],
 "metadata": {
  "kernelspec": {
   "display_name": "Python 3 (ipykernel)",
   "language": "python",
   "name": "python3"
  },
  "language_info": {
   "codemirror_mode": {
    "name": "ipython",
    "version": 3
   },
   "file_extension": ".py",
   "mimetype": "text/x-python",
   "name": "python",
   "nbconvert_exporter": "python",
   "pygments_lexer": "ipython3",
   "version": "3.11.13"
  }
 },
 "nbformat": 4,
 "nbformat_minor": 5
}
