{
 "cells": [
  {
   "cell_type": "code",
   "execution_count": null,
   "id": "8b2b4edc-0608-466b-8454-58c61b6de1f9",
   "metadata": {},
   "outputs": [],
   "source": [
    "%pip install python-pptx\n"
   ]
  },
  {
   "cell_type": "code",
   "execution_count": null,
   "id": "e42be1a4-19af-4d23-a4a0-910b3cf44342",
   "metadata": {},
   "outputs": [],
   "source": [
    "from pptx import Presentation\n",
    "\n",
    "prs = Presentation()\n",
    "title_slide_layout = prs.slide_layouts[0]\n",
    "slide = prs.slides.add_slide(title_slide_layout)\n",
    "title = slide.shapes.title\n",
    "subtitle = slide.placeholders[1]\n",
    "\n",
    "title.text = \"Hello, World!\"\n",
    "subtitle.text = \"python-pptx was here!\"\n",
    "\n",
    "prs.save('test.pptx')"
   ]
  },
  {
   "cell_type": "code",
   "execution_count": null,
   "id": "e707cf48-1776-4794-88c3-a59647d56974",
   "metadata": {},
   "outputs": [],
   "source": [
    "from pptx import Presentation\n",
    "\n",
    "prs = Presentation()\n",
    "bullet_slide_layout = prs.slide_layouts[1]\n",
    "\n",
    "slide = prs.slides.add_slide(bullet_slide_layout)\n",
    "shapes = slide.shapes\n",
    "\n",
    "title_shape = shapes.title\n",
    "body_shape = shapes.placeholders[1]\n",
    "\n",
    "title_shape.text = 'Adding a Bullet Slide'\n",
    "\n",
    "tf = body_shape.text_frame\n",
    "tf.text = 'Find the bullet slide layout'\n",
    "\n",
    "p = tf.add_paragraph()\n",
    "p.text = 'Use _TextFrame.text for first bullet'\n",
    "p.level = 1\n",
    "\n",
    "p = tf.add_paragraph()\n",
    "p.text = 'Use _TextFrame.add_paragraph() for subsequent bullets'\n",
    "p.level = 2\n",
    "\n",
    "prs.save('test.pptx')"
   ]
  },
  {
   "cell_type": "code",
   "execution_count": null,
   "id": "47eb0367-98e3-4119-a7ab-ece05343fc63",
   "metadata": {},
   "outputs": [],
   "source": [
    "prs = Presentation('test.pptx')\n",
    "prs.save('new-file-name.pptx')"
   ]
  },
  {
   "cell_type": "code",
   "execution_count": null,
   "id": "00f6e3e3-8b0b-4787-a616-67e3ffbfc207",
   "metadata": {
    "scrolled": true
   },
   "outputs": [],
   "source": [
    "f = open('test.pptx')\n",
    "prs = Presentation(f)\n",
    "f.close()\n",
    "\n",
    "# or\n",
    "\n",
    "with open('test.pptx') as f:\n",
    "    source_stream = StringIO(f.read())\n",
    "prs = Presentation(source_stream)\n",
    "source_stream.close()\n",
    "...\n",
    "target_stream = StringIO()\n",
    "prs.save(target_stream)"
   ]
  },
  {
   "cell_type": "code",
   "execution_count": null,
   "id": "be14ca7d-598b-48da-8576-636686713179",
   "metadata": {},
   "outputs": [],
   "source": [
    "from pptx import Presentation\n",
    "from io import BytesIO\n",
    "\n",
    "# Option 1: direct open\n",
    "with open(\"test.pptx\", \"rb\") as f:\n",
    "    prs = Presentation(f)\n",
    "\n",
    "# ... work with prs ...\n",
    "\n",
    "with open(\"newfile.pptx\", \"wb\") as f:\n",
    "    prs.save(f)\n",
    "\n",
    "\n",
    "# Option 2: copy to BytesIO\n",
    "with open(\"test.pptx\", \"rb\") as f:\n",
    "    source_stream = BytesIO(f.read())\n",
    "prs = Presentation(source_stream)\n",
    "\n",
    "target_stream = BytesIO()\n",
    "prs.save(target_stream)\n"
   ]
  },
  {
   "cell_type": "code",
   "execution_count": null,
   "id": "3e08d31d-64b7-4898-9a50-d9b260bb1965",
   "metadata": {},
   "outputs": [],
   "source": [
    "for shape in slide.shapes:\n",
    "    if not shape.has_text_frame:\n",
    "        continue\n",
    "    text_frame = shape.text_frame"
   ]
  },
  {
   "cell_type": "code",
   "execution_count": null,
   "id": "7b8f3016-2500-47cb-8e8e-87457fe9db65",
   "metadata": {},
   "outputs": [],
   "source": [
    "text_frame"
   ]
  },
  {
   "cell_type": "code",
   "execution_count": null,
   "id": "6a8915aa-2494-4e83-bfcc-f6f4eacfcab3",
   "metadata": {},
   "outputs": [],
   "source": [
    "print(text_frame)"
   ]
  },
  {
   "cell_type": "code",
   "execution_count": null,
   "id": "f79e1a15-d3e0-4def-bfa1-a83285f4e5a4",
   "metadata": {},
   "outputs": [],
   "source": [
    "from pptx import Presentation\n",
    "\n",
    "# Load an existing PowerPoint\n",
    "prs = Presentation(\"test.pptx\")\n",
    "\n",
    "# Loop over all slides\n",
    "for i, slide in enumerate(prs.slides, start=1):\n",
    "    print(f\"\\n--- Slide {i} ---\")\n",
    "    \n",
    "    # Loop over shapes (text boxes, titles, placeholders, etc.)\n",
    "    for shape in slide.shapes:\n",
    "        if shape.has_text_frame:  # Only shapes that can contain text\n",
    "            for paragraph in shape.text_frame.paragraphs:\n",
    "                # Collect text from each run in the paragraph\n",
    "                text = \"\".join(run.text for run in paragraph.runs)\n",
    "                print(text)\n"
   ]
  },
  {
   "cell_type": "code",
   "execution_count": null,
   "id": "2194dc46-79ef-4524-83c2-98afb0f78aec",
   "metadata": {},
   "outputs": [],
   "source": [
    "from pptx import Presentation\n",
    "\n",
    "def extract_text_as_string(path):\n",
    "    prs = Presentation(path)\n",
    "    all_text = []\n",
    "\n",
    "    for i, slide in enumerate(prs.slides, start=1):\n",
    "        slide_text = [f\"--- Slide {i} ---\"]\n",
    "        for shape in slide.shapes:\n",
    "            if shape.has_text_frame:\n",
    "                for paragraph in shape.text_frame.paragraphs:\n",
    "                    text = \"\".join(run.text for run in paragraph.runs)\n",
    "                    if text.strip():  # skip empty lines\n",
    "                        slide_text.append(text)\n",
    "        all_text.append(\"\\n\".join(slide_text))\n",
    "    \n",
    "    return \"\\n\\n\".join(all_text)\n",
    "\n",
    "text_output = extract_text_as_string(\"test.pptx\")\n",
    "print(text_output)\n"
   ]
  },
  {
   "cell_type": "code",
   "execution_count": null,
   "id": "02248d4b-7ce7-4528-bd9e-6fa5e2415750",
   "metadata": {},
   "outputs": [],
   "source": [
    "from pptx import Presentation\n",
    "import json\n",
    "\n",
    "def extract_text_as_dict(path):\n",
    "    prs = Presentation(path)\n",
    "    slides_data = {}\n",
    "\n",
    "    for i, slide in enumerate(prs.slides, start=1):\n",
    "        slide_key = f\"Slide {i}\"\n",
    "        slide_texts = []\n",
    "        for shape in slide.shapes:\n",
    "            if shape.has_text_frame:\n",
    "                for paragraph in shape.text_frame.paragraphs:\n",
    "                    text = \"\".join(run.text for run in paragraph.runs)\n",
    "                    if text.strip():\n",
    "                        slide_texts.append(text)\n",
    "        slides_data[slide_key] = slide_texts\n",
    "    \n",
    "    return slides_data\n",
    "\n",
    "slides_dict = extract_text_as_dict(\"test.pptx\")\n",
    "\n",
    "# Pretty print JSON\n",
    "print(json.dumps(slides_dict, indent=2))\n"
   ]
  },
  {
   "cell_type": "code",
   "execution_count": 12,
   "id": "87eeed3d-2305-4e0f-a578-0fbd8dc761e7",
   "metadata": {},
   "outputs": [],
   "source": [
    "# %pip install python-pptx\n",
    "\n",
    "import os, json, glob\n",
    "from pptx import Presentation\n",
    "\n",
    "def extract_slide_texts(pptx_path):\n",
    "    prs = Presentation(pptx_path)\n",
    "    slides = []\n",
    "    for i, slide in enumerate(prs.slides, start=1):\n",
    "        lines = []\n",
    "        for shape in slide.shapes:\n",
    "            if shape.has_text_frame:\n",
    "                for para in shape.text_frame.paragraphs:\n",
    "                    text = \"\".join(run.text for run in para.runs).strip()\n",
    "                    if text:\n",
    "                        lines.append(text)\n",
    "        slides.append({\"slide_index\": i, \"lines\": lines})\n",
    "    return slides\n",
    "\n",
    "def slides_to_string(slides):\n",
    "    \"\"\"Convert list of slide dicts into one string for LLM.\"\"\"\n",
    "    chunks = []\n",
    "    for s in slides:\n",
    "        if s[\"lines\"]:\n",
    "            chunks.append(f\"Slide {s['slide_index']}:\\n\" + \"\\n\".join(s[\"lines\"]))\n",
    "    return \"\\n\\n\".join(chunks)"
   ]
  },
  {
   "cell_type": "code",
   "execution_count": null,
   "id": "233f8c79-0313-48c6-990f-16e9d87f699f",
   "metadata": {},
   "outputs": [],
   "source": [
    "def extract_many(pptx_paths, out_jsonl=\"slides.jsonl\"):\n",
    "    \"\"\"\n",
    "    Writes one JSON object per line with:\n",
    "    {\n",
    "      \"deck_path\": \"...\",\n",
    "      \"deck_name\": \"...\",\n",
    "      \"slide_index\": 1,\n",
    "      \"lines\": [\"...\", \"...\"],\n",
    "      \"deck_text\": \"whole deck concatenated (for deck-level summary)\"\n",
    "    }\n",
    "    \"\"\"\n",
    "    with open(out_jsonl, \"w\", encoding=\"utf-8\") as f:\n",
    "        for path in pptx_paths:\n",
    "            slides = extract_slide_texts(path)\n",
    "            deck_text = \"\\n\".join(\n",
    "                \"\\n\".join(s[\"lines\"]) for s in slides if s[\"lines\"]\n",
    "            ).strip()\n",
    "            deck_name = os.path.basename(path)\n",
    "            for s in slides:\n",
    "                rec = {\n",
    "                    \"deck_path\": path,\n",
    "                    \"deck_name\": deck_name,\n",
    "                    \"slide_index\": s[\"slide_index\"],\n",
    "                    \"lines\": s[\"lines\"],\n",
    "                    \"deck_text\": deck_text\n",
    "                }\n",
    "                f.write(json.dumps(rec, ensure_ascii=False) + \"\\n\")\n",
    "                print(rec)\n",
    "\n"
   ]
  },
  {
   "cell_type": "code",
   "execution_count": null,
   "id": "7fa37384-223f-4806-b121-6263e909c31a",
   "metadata": {},
   "outputs": [],
   "source": [
    "# Example: all PPTX files in a folder\n",
    "pptx_files = glob.glob(\"presentations/**/*.pptx\", recursive=True) or glob.glob(\"*.pptx\")\n",
    "extract_many(pptx_files, out_jsonl=\"slides.jsonl\")\n",
    "print(f\"Wrote slide records to slides.jsonl (one line per slide).\")\n"
   ]
  },
  {
   "cell_type": "code",
   "execution_count": 8,
   "id": "2e267c32-f714-47b9-8cc5-f3bd79570392",
   "metadata": {},
   "outputs": [],
   "source": [
    "system_prompt = \"You are an assistant that analyzes the contents of several pptx files \\\n",
    "and creates a short humorous, entertaining summary. Respond in markdown.\\\n",
    "Include details of the number of pages and text format and shapes\""
   ]
  },
  {
   "cell_type": "code",
   "execution_count": null,
   "id": "012dbc64-c547-469e-a4aa-c36d098e87f9",
   "metadata": {},
   "outputs": [],
   "source": [
    "import json\n",
    "\n",
    "with open(\"slides.jsonl\", \"r\", encoding=\"utf-8\") as f:\n",
    "    for line in f:\n",
    "        record = json.loads(line)  # parse JSON from one line\n",
    "        print(record)\n"
   ]
  },
  {
   "cell_type": "code",
   "execution_count": 10,
   "id": "43b63c38-e920-4f8e-be23-46048fdc1a56",
   "metadata": {},
   "outputs": [],
   "source": [
    "def get_brochure_user_prompt(path):\n",
    "    user_prompt = f\"You are looking at a folder with pptx presentations.\\n\"\n",
    "    user_prompt += f\"Here are the contents of its slides; use this information to build a short summary in markdown.\\n\"\n",
    "    slides = extract_slide_texts(path)\n",
    "    user_prompt += slides_to_string(slides)\n",
    "    user_prompt = user_prompt[:5_000] # Truncate if more than 5,000 characters\n",
    "    return user_prompt"
   ]
  },
  {
   "cell_type": "code",
   "execution_count": 4,
   "id": "295da853-1dfd-4ca1-9f61-aac57ccd0bee",
   "metadata": {},
   "outputs": [],
   "source": [
    "# imports\n",
    "# If these fail, please check you're running from an 'activated' environment with (llms) in the command prompt\n",
    "\n",
    "import os\n",
    "import requests\n",
    "import json\n",
    "from typing import List\n",
    "from dotenv import load_dotenv\n",
    "from bs4 import BeautifulSoup\n",
    "from IPython.display import Markdown, display, update_display\n",
    "from openai import OpenAI"
   ]
  },
  {
   "cell_type": "code",
   "execution_count": 5,
   "id": "69fcda3b-eac3-4220-bde3-17dc830e7743",
   "metadata": {},
   "outputs": [
    {
     "name": "stdout",
     "output_type": "stream",
     "text": [
      "API key looks good so far\n"
     ]
    }
   ],
   "source": [
    "# Initialize and constants\n",
    "\n",
    "load_dotenv(override=True)\n",
    "api_key = os.getenv('OPENAI_API_KEY')\n",
    "\n",
    "if api_key and api_key.startswith('sk-proj-') and len(api_key)>10:\n",
    "    print(\"API key looks good so far\")\n",
    "else:\n",
    "    print(\"There might be a problem with your API key? Please visit the troubleshooting notebook!\")\n",
    "    \n",
    "MODEL = 'gpt-4o-mini'\n",
    "openai = OpenAI()"
   ]
  },
  {
   "cell_type": "code",
   "execution_count": 6,
   "id": "2a1bcc38-434e-4f48-953c-b4796aff1580",
   "metadata": {},
   "outputs": [],
   "source": [
    "def pptx_summary(path):\n",
    "    response = openai.chat.completions.create(\n",
    "        model=MODEL,\n",
    "        messages=[\n",
    "            {\"role\": \"system\", \"content\": system_prompt},\n",
    "            {\"role\": \"user\", \"content\": get_brochure_user_prompt(path)}\n",
    "          ],\n",
    "    )\n",
    "    result = response.choices[0].message.content\n",
    "    display(Markdown(result))"
   ]
  },
  {
   "cell_type": "code",
   "execution_count": 13,
   "id": "7bec61df-72bb-4027-be6c-b5198d535f1e",
   "metadata": {},
   "outputs": [
    {
     "data": {
      "text/markdown": [
       "# Presentation Summary: Malala Yousafzai - Highlights of a Notable Life\n",
       "\n",
       "**Number of Pages**: 4  \n",
       "**Text Format**: Standard font, bullet points on key slides  \n",
       "**Shapes**: None mentioned, so possibly on the traditional side—just like the courage of Malala herself!\n",
       "\n",
       "---\n",
       "\n",
       "**Slide 1**: Introduction to Malala  \n",
       "- Malala Yousafzai, the powerhouse of education advocacy. \n",
       "\n",
       "**Slide 2**: Early Life  \n",
       "- Born in 1997 in Pakistan.  \n",
       "- Became the original 'girl power' advocate before it was trending!\n",
       "\n",
       "**Slide 3**: Major Achievements  \n",
       "- Survived a stylishly dramatic encounter with the Taliban—talk about a plot twist!  \n",
       "- Became the youngest Nobel Peace Prize winner at age 17—set the bar real high for other teens!  \n",
       "- Launched the Malala Fund—because who doesn't love a good educational investment?\n",
       "\n",
       "**Slide 4**: Legacy & Impact  \n",
       "- A global icon of bravery and belief in education.  \n",
       "- Inspires millions to fight for equality—proof that one person can change the game.  \n",
       "- Continues to champion girls’ rights worldwide, like a superhero in disguise, minus the cape!\n",
       "\n",
       "---\n",
       "\n",
       "In a nutshell, this presentation highlights how Malala Yousafzai turned her teenage years into a campaign for justice and education, all while making accidental history at every stop! 🌟"
      ],
      "text/plain": [
       "<IPython.core.display.Markdown object>"
      ]
     },
     "metadata": {},
     "output_type": "display_data"
    }
   ],
   "source": [
    "pptx_summary(\"Malala_Yousafzai.pptx\")"
   ]
  },
  {
   "cell_type": "code",
   "execution_count": 14,
   "id": "2a277326-df63-4f43-82a7-413c7d65aca1",
   "metadata": {},
   "outputs": [
    {
     "data": {
      "text/markdown": [
       "# Shakespeare: The Bard with a Quill\n",
       "\n",
       "## Overview\n",
       "This delightful slide show contains **4 pages** packed with insights about the life and times of William Shakespeare, a guy who was basically the **Taylor Swift of the 16th century** (minus the hair flips and Instagram). \n",
       "\n",
       "### Slide Breakdown\n",
       "\n",
       "- **Slide 1: Early Life**\n",
       "  - Text: Bullet points summarizing his birth, family, education, marriage, and his efforts to keep up with child support (3 children, folks!).\n",
       "  - Total Shapes: 1 main textbox with cleverly formatted bullets.\n",
       "  - Fun Fact: Born in Stratford-upon-Avon, where \"Shakespeare\" was probably the most-used surname after \"Glove-maker.\"\n",
       "\n",
       "- **Slide 2: Career Beginnings**\n",
       "  - Text: Highlights of his move to London, gaining fame, and co-founding an acting company (no pressure, right?). \n",
       "  - Total Shapes: 1 main textbox with bullets and a side note about his early works looking a little too much like sad poetry.\n",
       "  - Notable Moment: Launched his career with *Venus and Adonis*—the title sounds romantic, but don't be fooled!\n",
       "\n",
       "- **Slide 3: Major Works**\n",
       "  - Text: A rundown of plays, sonnets, and poems, categorized like Tinder interests.\n",
       "  - Total Shapes: 1 core textbox with classified genres. \n",
       "  - Comedic Gold: Listed tragedies help you figure out who should definitely *not* get invited to your party!\n",
       "\n",
       "- **Slide 4: Later Life & Legacy**\n",
       "  - Text: Summarizes his retirement, death, and how he managed to become an immortal star in the literary cosmos.\n",
       "  - Total Shapes: 1 textbox that manages to pack in his burial place and a global legacy.\n",
       "  - Mic Drop: The line about his works being translated into every major language is just an indication that he was the original influencer. \n",
       "\n",
       "### Conclusion\n",
       "In summary, this presentation was a splendid tour through Shakespeare's life, highlighting the ups and downs while reminding us that even in the 16th century, writing about tragic love was all the rage. So, raise a glass to the man who gave us “To be or not to be!”—a deep question that currently has us all just contemplating dinner choices. 🍽️🎭"
      ],
      "text/plain": [
       "<IPython.core.display.Markdown object>"
      ]
     },
     "metadata": {},
     "output_type": "display_data"
    }
   ],
   "source": [
    "pptx_summary(\"Shakespeare_Highlights.pptx\")"
   ]
  },
  {
   "cell_type": "code",
   "execution_count": 15,
   "id": "6f4c74c2-8c1e-4d17-935d-a4e2fbc984a2",
   "metadata": {},
   "outputs": [
    {
     "data": {
      "text/markdown": [
       "# A Journey through the Life of Nelson Mandela: A PPTX Extravaganza!\n",
       "\n",
       "**Total Pages:** 4  \n",
       "**Text Format:** Classic Black & White (because why let colors get in the way of a historical narrative?!)  \n",
       "**Shapes Used:** Probably rectangles for text boxes, because let’s keep it simple, folks!\n",
       "\n",
       "---\n",
       "\n",
       "**Slide 1: Introduction**\n",
       "- **Title:** \"Nelson Mandela Highlights of a Notable Life\"  \n",
       "  (You just know this guy is going places!)\n",
       "\n",
       "**Slide 2: Early Life** \n",
       "- **Fun Facts:**  \n",
       "  - Born in 1918, which means he was around for the invention of sliced bread! (Not that it mattered, given the apartheid crisis.)\n",
       "  - Studied law—clearly preparing for a future with more than a few courtroom dramas!\n",
       "\n",
       "**Slide 3: Major Achievements**\n",
       "- **Anticipation Building:** \n",
       "  - Activist extraordinaire—imprisoned for *27 years*! (Talk about a long timeout!)\n",
       "  - Became South Africa’s first Black president in 1994. If that’s not the ultimate comeback story, what is?\n",
       "\n",
       "**Slide 4: Legacy & Impact**\n",
       "- **Something to Think About:** \n",
       "  - The ultimate symbol of peace, reconciliation, and justice—like a superhero, but without the cape! \n",
       "  - Nobel Peace Prize? Check! He inspired human rights movements worldwide! (Pretty sure he has a \"World’s Best Human\" mug somewhere.)\n",
       "\n",
       "---\n",
       "\n",
       "And there you have it—a heartwarming and slightly amusing recap of Nelson Mandela’s life, reminding us that one man can indeed make a world of difference, all while keeping it stylishly succinct! 🌍💫"
      ],
      "text/plain": [
       "<IPython.core.display.Markdown object>"
      ]
     },
     "metadata": {},
     "output_type": "display_data"
    }
   ],
   "source": [
    "pptx_summary(\"Nelson_Mandela.pptx\")"
   ]
  },
  {
   "cell_type": "code",
   "execution_count": null,
   "id": "a17b5338-89ea-47a8-b358-f09e6eb4f010",
   "metadata": {},
   "outputs": [],
   "source": [
    "\n",
    "def pptx_summary(path):\n",
    "    MODEL = \"llama3.2\"\n",
    "    ollama_via_openai = OpenAI(base_url='http://localhost:11434/v1', api_key='ollama')\n",
    "    \n",
    "    response = ollama_via_openai.chat.completions.create(\n",
    "        model=MODEL,\n",
    "        messages=[\n",
    "            {\"role\": \"system\", \"content\": system_prompt},\n",
    "            {\"role\": \"user\", \"content\": get_brochure_user_prompt(path)}\n",
    "          ],\n",
    "    )\n",
    "    result = response.choices[0].message.content\n",
    "    display(Markdown(result))"
   ]
  },
  {
   "cell_type": "code",
   "execution_count": null,
   "id": "7c9464cd-9859-44bc-9d72-73743caf6805",
   "metadata": {},
   "outputs": [],
   "source": [
    "pptx_summary(\"Shakespeare_Highlights.pptx\")"
   ]
  },
  {
   "cell_type": "code",
   "execution_count": null,
   "id": "266e600d-03d0-43ce-b20a-ac6cc2cc7499",
   "metadata": {},
   "outputs": [],
   "source": []
  }
 ],
 "metadata": {
  "kernelspec": {
   "display_name": "Python 3 (ipykernel)",
   "language": "python",
   "name": "python3"
  },
  "language_info": {
   "codemirror_mode": {
    "name": "ipython",
    "version": 3
   },
   "file_extension": ".py",
   "mimetype": "text/x-python",
   "name": "python",
   "nbconvert_exporter": "python",
   "pygments_lexer": "ipython3",
   "version": "3.11.13"
  }
 },
 "nbformat": 4,
 "nbformat_minor": 5
}
