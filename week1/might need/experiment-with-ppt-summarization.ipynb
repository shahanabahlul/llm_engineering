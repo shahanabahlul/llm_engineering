{
 "cells": [
  {
   "cell_type": "code",
   "execution_count": null,
   "id": "8b2b4edc-0608-466b-8454-58c61b6de1f9",
   "metadata": {},
   "outputs": [],
   "source": [
    "%pip install python-pptx\n"
   ]
  },
  {
   "cell_type": "code",
   "execution_count": 1,
   "id": "e42be1a4-19af-4d23-a4a0-910b3cf44342",
   "metadata": {},
   "outputs": [],
   "source": [
    "from pptx import Presentation\n",
    "\n",
    "prs = Presentation()\n",
    "title_slide_layout = prs.slide_layouts[0]\n",
    "slide = prs.slides.add_slide(title_slide_layout)\n",
    "title = slide.shapes.title\n",
    "subtitle = slide.placeholders[1]\n",
    "\n",
    "title.text = \"Hello, World!\"\n",
    "subtitle.text = \"python-pptx was here!\"\n",
    "\n",
    "prs.save('test.pptx')"
   ]
  },
  {
   "cell_type": "code",
   "execution_count": 2,
   "id": "e707cf48-1776-4794-88c3-a59647d56974",
   "metadata": {},
   "outputs": [],
   "source": [
    "from pptx import Presentation\n",
    "\n",
    "prs = Presentation()\n",
    "bullet_slide_layout = prs.slide_layouts[1]\n",
    "\n",
    "slide = prs.slides.add_slide(bullet_slide_layout)\n",
    "shapes = slide.shapes\n",
    "\n",
    "title_shape = shapes.title\n",
    "body_shape = shapes.placeholders[1]\n",
    "\n",
    "title_shape.text = 'Adding a Bullet Slide'\n",
    "\n",
    "tf = body_shape.text_frame\n",
    "tf.text = 'Find the bullet slide layout'\n",
    "\n",
    "p = tf.add_paragraph()\n",
    "p.text = 'Use _TextFrame.text for first bullet'\n",
    "p.level = 1\n",
    "\n",
    "p = tf.add_paragraph()\n",
    "p.text = 'Use _TextFrame.add_paragraph() for subsequent bullets'\n",
    "p.level = 2\n",
    "\n",
    "prs.save('test.pptx')"
   ]
  },
  {
   "cell_type": "code",
   "execution_count": 3,
   "id": "47eb0367-98e3-4119-a7ab-ece05343fc63",
   "metadata": {},
   "outputs": [],
   "source": [
    "prs = Presentation('test.pptx')\n",
    "prs.save('new-file-name.pptx')"
   ]
  },
  {
   "cell_type": "code",
   "execution_count": 4,
   "id": "00f6e3e3-8b0b-4787-a616-67e3ffbfc207",
   "metadata": {
    "scrolled": true
   },
   "outputs": [
    {
     "ename": "BadZipFile",
     "evalue": "File is not a zip file",
     "output_type": "error",
     "traceback": [
      "\u001b[31m---------------------------------------------------------------------------\u001b[39m",
      "\u001b[31mBadZipFile\u001b[39m                                Traceback (most recent call last)",
      "\u001b[36mCell\u001b[39m\u001b[36m \u001b[39m\u001b[32mIn[4]\u001b[39m\u001b[32m, line 2\u001b[39m\n\u001b[32m      1\u001b[39m f = \u001b[38;5;28mopen\u001b[39m(\u001b[33m'\u001b[39m\u001b[33mtest.pptx\u001b[39m\u001b[33m'\u001b[39m)\n\u001b[32m----> \u001b[39m\u001b[32m2\u001b[39m prs = \u001b[43mPresentation\u001b[49m\u001b[43m(\u001b[49m\u001b[43mf\u001b[49m\u001b[43m)\u001b[49m\n\u001b[32m      3\u001b[39m f.close()\n\u001b[32m      5\u001b[39m \u001b[38;5;66;03m# or\u001b[39;00m\n",
      "\u001b[36mFile \u001b[39m\u001b[32m~\\AppData\\Local\\anaconda3\\envs\\llms\\Lib\\site-packages\\pptx\\api.py:31\u001b[39m, in \u001b[36mPresentation\u001b[39m\u001b[34m(pptx)\u001b[39m\n\u001b[32m     28\u001b[39m \u001b[38;5;28;01mif\u001b[39;00m pptx \u001b[38;5;129;01mis\u001b[39;00m \u001b[38;5;28;01mNone\u001b[39;00m:\n\u001b[32m     29\u001b[39m     pptx = _default_pptx_path()\n\u001b[32m---> \u001b[39m\u001b[32m31\u001b[39m presentation_part = \u001b[43mPackage\u001b[49m\u001b[43m.\u001b[49m\u001b[43mopen\u001b[49m\u001b[43m(\u001b[49m\u001b[43mpptx\u001b[49m\u001b[43m)\u001b[49m.main_document_part\n\u001b[32m     33\u001b[39m \u001b[38;5;28;01mif\u001b[39;00m \u001b[38;5;129;01mnot\u001b[39;00m _is_pptx_package(presentation_part):\n\u001b[32m     34\u001b[39m     tmpl = \u001b[33m\"\u001b[39m\u001b[33mfile \u001b[39m\u001b[33m'\u001b[39m\u001b[38;5;132;01m%s\u001b[39;00m\u001b[33m'\u001b[39m\u001b[33m is not a PowerPoint file, content type is \u001b[39m\u001b[33m'\u001b[39m\u001b[38;5;132;01m%s\u001b[39;00m\u001b[33m'\u001b[39m\u001b[33m\"\u001b[39m\n",
      "\u001b[36mFile \u001b[39m\u001b[32m~\\AppData\\Local\\anaconda3\\envs\\llms\\Lib\\site-packages\\pptx\\opc\\package.py:82\u001b[39m, in \u001b[36mOpcPackage.open\u001b[39m\u001b[34m(cls, pkg_file)\u001b[39m\n\u001b[32m     79\u001b[39m \u001b[38;5;129m@classmethod\u001b[39m\n\u001b[32m     80\u001b[39m \u001b[38;5;28;01mdef\u001b[39;00m\u001b[38;5;250m \u001b[39m\u001b[34mopen\u001b[39m(\u001b[38;5;28mcls\u001b[39m, pkg_file: \u001b[38;5;28mstr\u001b[39m | IO[\u001b[38;5;28mbytes\u001b[39m]) -> Self:\n\u001b[32m     81\u001b[39m \u001b[38;5;250m    \u001b[39m\u001b[33;03m\"\"\"Return an |OpcPackage| instance loaded with the contents of `pkg_file`.\"\"\"\u001b[39;00m\n\u001b[32m---> \u001b[39m\u001b[32m82\u001b[39m     \u001b[38;5;28;01mreturn\u001b[39;00m \u001b[38;5;28;43mcls\u001b[39;49m\u001b[43m(\u001b[49m\u001b[43mpkg_file\u001b[49m\u001b[43m)\u001b[49m\u001b[43m.\u001b[49m\u001b[43m_load\u001b[49m\u001b[43m(\u001b[49m\u001b[43m)\u001b[49m\n",
      "\u001b[36mFile \u001b[39m\u001b[32m~\\AppData\\Local\\anaconda3\\envs\\llms\\Lib\\site-packages\\pptx\\opc\\package.py:160\u001b[39m, in \u001b[36mOpcPackage._load\u001b[39m\u001b[34m(self)\u001b[39m\n\u001b[32m    158\u001b[39m \u001b[38;5;28;01mdef\u001b[39;00m\u001b[38;5;250m \u001b[39m\u001b[34m_load\u001b[39m(\u001b[38;5;28mself\u001b[39m) -> Self:\n\u001b[32m    159\u001b[39m \u001b[38;5;250m    \u001b[39m\u001b[33;03m\"\"\"Return the package after loading all parts and relationships.\"\"\"\u001b[39;00m\n\u001b[32m--> \u001b[39m\u001b[32m160\u001b[39m     pkg_xml_rels, parts = \u001b[43m_PackageLoader\u001b[49m\u001b[43m.\u001b[49m\u001b[43mload\u001b[49m\u001b[43m(\u001b[49m\u001b[38;5;28;43mself\u001b[39;49m\u001b[43m.\u001b[49m\u001b[43m_pkg_file\u001b[49m\u001b[43m,\u001b[49m\u001b[43m \u001b[49m\u001b[43mcast\u001b[49m\u001b[43m(\u001b[49m\u001b[33;43m\"\u001b[39;49m\u001b[33;43mPackage\u001b[39;49m\u001b[33;43m\"\u001b[39;49m\u001b[43m,\u001b[49m\u001b[43m \u001b[49m\u001b[38;5;28;43mself\u001b[39;49m\u001b[43m)\u001b[49m\u001b[43m)\u001b[49m\n\u001b[32m    161\u001b[39m     \u001b[38;5;28mself\u001b[39m._rels.load_from_xml(PACKAGE_URI, pkg_xml_rels, parts)\n\u001b[32m    162\u001b[39m     \u001b[38;5;28;01mreturn\u001b[39;00m \u001b[38;5;28mself\u001b[39m\n",
      "\u001b[36mFile \u001b[39m\u001b[32m~\\AppData\\Local\\anaconda3\\envs\\llms\\Lib\\site-packages\\pptx\\opc\\package.py:190\u001b[39m, in \u001b[36m_PackageLoader.load\u001b[39m\u001b[34m(cls, pkg_file, package)\u001b[39m\n\u001b[32m    177\u001b[39m \u001b[38;5;129m@classmethod\u001b[39m\n\u001b[32m    178\u001b[39m \u001b[38;5;28;01mdef\u001b[39;00m\u001b[38;5;250m \u001b[39m\u001b[34mload\u001b[39m(\n\u001b[32m    179\u001b[39m     \u001b[38;5;28mcls\u001b[39m, pkg_file: \u001b[38;5;28mstr\u001b[39m | IO[\u001b[38;5;28mbytes\u001b[39m], package: Package\n\u001b[32m    180\u001b[39m ) -> \u001b[38;5;28mtuple\u001b[39m[CT_Relationships, \u001b[38;5;28mdict\u001b[39m[PackURI, Part]]:\n\u001b[32m    181\u001b[39m \u001b[38;5;250m    \u001b[39m\u001b[33;03m\"\"\"Return (pkg_xml_rels, parts) pair resulting from loading `pkg_file`.\u001b[39;00m\n\u001b[32m    182\u001b[39m \n\u001b[32m    183\u001b[39m \u001b[33;03m    The returned `parts` value is a {partname: part} mapping with each part in the package\u001b[39;00m\n\u001b[32m   (...)\u001b[39m\u001b[32m    188\u001b[39m \u001b[33;03m    those relationships into its |_Relationships| object.\u001b[39;00m\n\u001b[32m    189\u001b[39m \u001b[33;03m    \"\"\"\u001b[39;00m\n\u001b[32m--> \u001b[39m\u001b[32m190\u001b[39m     \u001b[38;5;28;01mreturn\u001b[39;00m \u001b[38;5;28;43mcls\u001b[39;49m\u001b[43m(\u001b[49m\u001b[43mpkg_file\u001b[49m\u001b[43m,\u001b[49m\u001b[43m \u001b[49m\u001b[43mpackage\u001b[49m\u001b[43m)\u001b[49m\u001b[43m.\u001b[49m\u001b[43m_load\u001b[49m\u001b[43m(\u001b[49m\u001b[43m)\u001b[49m\n",
      "\u001b[36mFile \u001b[39m\u001b[32m~\\AppData\\Local\\anaconda3\\envs\\llms\\Lib\\site-packages\\pptx\\opc\\package.py:194\u001b[39m, in \u001b[36m_PackageLoader._load\u001b[39m\u001b[34m(self)\u001b[39m\n\u001b[32m    192\u001b[39m \u001b[38;5;28;01mdef\u001b[39;00m\u001b[38;5;250m \u001b[39m\u001b[34m_load\u001b[39m(\u001b[38;5;28mself\u001b[39m) -> \u001b[38;5;28mtuple\u001b[39m[CT_Relationships, \u001b[38;5;28mdict\u001b[39m[PackURI, Part]]:\n\u001b[32m    193\u001b[39m \u001b[38;5;250m    \u001b[39m\u001b[33;03m\"\"\"Return (pkg_xml_rels, parts) pair resulting from loading pkg_file.\"\"\"\u001b[39;00m\n\u001b[32m--> \u001b[39m\u001b[32m194\u001b[39m     parts, xml_rels = \u001b[38;5;28;43mself\u001b[39;49m\u001b[43m.\u001b[49m\u001b[43m_parts\u001b[49m, \u001b[38;5;28mself\u001b[39m._xml_rels\n\u001b[32m    196\u001b[39m     \u001b[38;5;28;01mfor\u001b[39;00m partname, part \u001b[38;5;129;01min\u001b[39;00m parts.items():\n\u001b[32m    197\u001b[39m         part.load_rels_from_xml(xml_rels[partname], parts)\n",
      "\u001b[36mFile \u001b[39m\u001b[32m~\\AppData\\Local\\anaconda3\\envs\\llms\\Lib\\site-packages\\pptx\\util.py:191\u001b[39m, in \u001b[36mlazyproperty.__get__\u001b[39m\u001b[34m(self, obj, type)\u001b[39m\n\u001b[32m    186\u001b[39m value = obj.\u001b[34m__dict__\u001b[39m.get(\u001b[38;5;28mself\u001b[39m._name)\n\u001b[32m    187\u001b[39m \u001b[38;5;28;01mif\u001b[39;00m value \u001b[38;5;129;01mis\u001b[39;00m \u001b[38;5;28;01mNone\u001b[39;00m:\n\u001b[32m    188\u001b[39m     \u001b[38;5;66;03m# --- on first access, the __dict__ item will be absent. Evaluate fget()\u001b[39;00m\n\u001b[32m    189\u001b[39m     \u001b[38;5;66;03m# --- and store that value in the (otherwise unused) host-object\u001b[39;00m\n\u001b[32m    190\u001b[39m     \u001b[38;5;66;03m# --- __dict__ value of same name ('fget' nominally)\u001b[39;00m\n\u001b[32m--> \u001b[39m\u001b[32m191\u001b[39m     value = \u001b[38;5;28;43mself\u001b[39;49m\u001b[43m.\u001b[49m\u001b[43m_fget\u001b[49m\u001b[43m(\u001b[49m\u001b[43mobj\u001b[49m\u001b[43m)\u001b[49m\n\u001b[32m    192\u001b[39m     obj.\u001b[34m__dict__\u001b[39m[\u001b[38;5;28mself\u001b[39m._name] = value\n\u001b[32m    193\u001b[39m \u001b[38;5;28;01mreturn\u001b[39;00m cast(_T, value)\n",
      "\u001b[36mFile \u001b[39m\u001b[32m~\\AppData\\Local\\anaconda3\\envs\\llms\\Lib\\site-packages\\pptx\\opc\\package.py:222\u001b[39m, in \u001b[36m_PackageLoader._parts\u001b[39m\u001b[34m(self)\u001b[39m\n\u001b[32m    214\u001b[39m \u001b[38;5;129m@lazyproperty\u001b[39m\n\u001b[32m    215\u001b[39m \u001b[38;5;28;01mdef\u001b[39;00m\u001b[38;5;250m \u001b[39m\u001b[34m_parts\u001b[39m(\u001b[38;5;28mself\u001b[39m) -> \u001b[38;5;28mdict\u001b[39m[PackURI, Part]:\n\u001b[32m    216\u001b[39m \u001b[38;5;250m    \u001b[39m\u001b[33;03m\"\"\"dict {partname: Part} populated with parts loading from package.\u001b[39;00m\n\u001b[32m    217\u001b[39m \n\u001b[32m    218\u001b[39m \u001b[33;03m    Among other duties, this collection is passed to each relationships collection so each\u001b[39;00m\n\u001b[32m    219\u001b[39m \u001b[33;03m    relationship can resolve a reference to its target part when required. This reference can\u001b[39;00m\n\u001b[32m    220\u001b[39m \u001b[33;03m    only be reliably carried out once the all parts have been loaded.\u001b[39;00m\n\u001b[32m    221\u001b[39m \u001b[33;03m    \"\"\"\u001b[39;00m\n\u001b[32m--> \u001b[39m\u001b[32m222\u001b[39m     content_types = \u001b[38;5;28;43mself\u001b[39;49m\u001b[43m.\u001b[49m\u001b[43m_content_types\u001b[49m\n\u001b[32m    223\u001b[39m     package = \u001b[38;5;28mself\u001b[39m._package\n\u001b[32m    224\u001b[39m     package_reader = \u001b[38;5;28mself\u001b[39m._package_reader\n",
      "\u001b[36mFile \u001b[39m\u001b[32m~\\AppData\\Local\\anaconda3\\envs\\llms\\Lib\\site-packages\\pptx\\util.py:191\u001b[39m, in \u001b[36mlazyproperty.__get__\u001b[39m\u001b[34m(self, obj, type)\u001b[39m\n\u001b[32m    186\u001b[39m value = obj.\u001b[34m__dict__\u001b[39m.get(\u001b[38;5;28mself\u001b[39m._name)\n\u001b[32m    187\u001b[39m \u001b[38;5;28;01mif\u001b[39;00m value \u001b[38;5;129;01mis\u001b[39;00m \u001b[38;5;28;01mNone\u001b[39;00m:\n\u001b[32m    188\u001b[39m     \u001b[38;5;66;03m# --- on first access, the __dict__ item will be absent. Evaluate fget()\u001b[39;00m\n\u001b[32m    189\u001b[39m     \u001b[38;5;66;03m# --- and store that value in the (otherwise unused) host-object\u001b[39;00m\n\u001b[32m    190\u001b[39m     \u001b[38;5;66;03m# --- __dict__ value of same name ('fget' nominally)\u001b[39;00m\n\u001b[32m--> \u001b[39m\u001b[32m191\u001b[39m     value = \u001b[38;5;28;43mself\u001b[39;49m\u001b[43m.\u001b[49m\u001b[43m_fget\u001b[49m\u001b[43m(\u001b[49m\u001b[43mobj\u001b[49m\u001b[43m)\u001b[49m\n\u001b[32m    192\u001b[39m     obj.\u001b[34m__dict__\u001b[39m[\u001b[38;5;28mself\u001b[39m._name] = value\n\u001b[32m    193\u001b[39m \u001b[38;5;28;01mreturn\u001b[39;00m cast(_T, value)\n",
      "\u001b[36mFile \u001b[39m\u001b[32m~\\AppData\\Local\\anaconda3\\envs\\llms\\Lib\\site-packages\\pptx\\opc\\package.py:207\u001b[39m, in \u001b[36m_PackageLoader._content_types\u001b[39m\u001b[34m(self)\u001b[39m\n\u001b[32m    201\u001b[39m \u001b[38;5;129m@lazyproperty\u001b[39m\n\u001b[32m    202\u001b[39m \u001b[38;5;28;01mdef\u001b[39;00m\u001b[38;5;250m \u001b[39m\u001b[34m_content_types\u001b[39m(\u001b[38;5;28mself\u001b[39m) -> _ContentTypeMap:\n\u001b[32m    203\u001b[39m \u001b[38;5;250m    \u001b[39m\u001b[33;03m\"\"\"|_ContentTypeMap| object providing content-types for items of this package.\u001b[39;00m\n\u001b[32m    204\u001b[39m \n\u001b[32m    205\u001b[39m \u001b[33;03m    Provides a content-type (MIME-type) for any given partname.\u001b[39;00m\n\u001b[32m    206\u001b[39m \u001b[33;03m    \"\"\"\u001b[39;00m\n\u001b[32m--> \u001b[39m\u001b[32m207\u001b[39m     \u001b[38;5;28;01mreturn\u001b[39;00m _ContentTypeMap.from_xml(\u001b[38;5;28;43mself\u001b[39;49m\u001b[43m.\u001b[49m\u001b[43m_package_reader\u001b[49m\u001b[43m[\u001b[49m\u001b[43mCONTENT_TYPES_URI\u001b[49m\u001b[43m]\u001b[49m)\n",
      "\u001b[36mFile \u001b[39m\u001b[32m~\\AppData\\Local\\anaconda3\\envs\\llms\\Lib\\site-packages\\pptx\\opc\\serialized.py:38\u001b[39m, in \u001b[36mPackageReader.__getitem__\u001b[39m\u001b[34m(self, pack_uri)\u001b[39m\n\u001b[32m     36\u001b[39m \u001b[38;5;28;01mdef\u001b[39;00m\u001b[38;5;250m \u001b[39m\u001b[34m__getitem__\u001b[39m(\u001b[38;5;28mself\u001b[39m, pack_uri: PackURI) -> \u001b[38;5;28mbytes\u001b[39m:\n\u001b[32m     37\u001b[39m \u001b[38;5;250m    \u001b[39m\u001b[33;03m\"\"\"Return bytes for part corresponding to `pack_uri`.\"\"\"\u001b[39;00m\n\u001b[32m---> \u001b[39m\u001b[32m38\u001b[39m     \u001b[38;5;28;01mreturn\u001b[39;00m \u001b[38;5;28;43mself\u001b[39;49m\u001b[43m.\u001b[49m\u001b[43m_blob_reader\u001b[49m\u001b[43m[\u001b[49m\u001b[43mpack_uri\u001b[49m\u001b[43m]\u001b[49m\n",
      "\u001b[36mFile \u001b[39m\u001b[32m~\\AppData\\Local\\anaconda3\\envs\\llms\\Lib\\site-packages\\pptx\\opc\\serialized.py:187\u001b[39m, in \u001b[36m_ZipPkgReader.__getitem__\u001b[39m\u001b[34m(self, pack_uri)\u001b[39m\n\u001b[32m    182\u001b[39m \u001b[38;5;28;01mdef\u001b[39;00m\u001b[38;5;250m \u001b[39m\u001b[34m__getitem__\u001b[39m(\u001b[38;5;28mself\u001b[39m, pack_uri: PackURI) -> \u001b[38;5;28mbytes\u001b[39m:\n\u001b[32m    183\u001b[39m \u001b[38;5;250m    \u001b[39m\u001b[33;03m\"\"\"Return bytes for part corresponding to `pack_uri`.\u001b[39;00m\n\u001b[32m    184\u001b[39m \n\u001b[32m    185\u001b[39m \u001b[33;03m    Raises |KeyError| if no matching member is present in zip archive.\u001b[39;00m\n\u001b[32m    186\u001b[39m \u001b[33;03m    \"\"\"\u001b[39;00m\n\u001b[32m--> \u001b[39m\u001b[32m187\u001b[39m     \u001b[38;5;28;01mif\u001b[39;00m pack_uri \u001b[38;5;129;01mnot\u001b[39;00m \u001b[38;5;129;01min\u001b[39;00m \u001b[38;5;28;43mself\u001b[39;49m\u001b[43m.\u001b[49m\u001b[43m_blobs\u001b[49m:\n\u001b[32m    188\u001b[39m         \u001b[38;5;28;01mraise\u001b[39;00m \u001b[38;5;167;01mKeyError\u001b[39;00m(\u001b[33m\"\u001b[39m\u001b[33mno member \u001b[39m\u001b[33m'\u001b[39m\u001b[38;5;132;01m%s\u001b[39;00m\u001b[33m'\u001b[39m\u001b[33m in package\u001b[39m\u001b[33m\"\u001b[39m % pack_uri)\n\u001b[32m    189\u001b[39m     \u001b[38;5;28;01mreturn\u001b[39;00m \u001b[38;5;28mself\u001b[39m._blobs[pack_uri]\n",
      "\u001b[36mFile \u001b[39m\u001b[32m~\\AppData\\Local\\anaconda3\\envs\\llms\\Lib\\site-packages\\pptx\\util.py:191\u001b[39m, in \u001b[36mlazyproperty.__get__\u001b[39m\u001b[34m(self, obj, type)\u001b[39m\n\u001b[32m    186\u001b[39m value = obj.\u001b[34m__dict__\u001b[39m.get(\u001b[38;5;28mself\u001b[39m._name)\n\u001b[32m    187\u001b[39m \u001b[38;5;28;01mif\u001b[39;00m value \u001b[38;5;129;01mis\u001b[39;00m \u001b[38;5;28;01mNone\u001b[39;00m:\n\u001b[32m    188\u001b[39m     \u001b[38;5;66;03m# --- on first access, the __dict__ item will be absent. Evaluate fget()\u001b[39;00m\n\u001b[32m    189\u001b[39m     \u001b[38;5;66;03m# --- and store that value in the (otherwise unused) host-object\u001b[39;00m\n\u001b[32m    190\u001b[39m     \u001b[38;5;66;03m# --- __dict__ value of same name ('fget' nominally)\u001b[39;00m\n\u001b[32m--> \u001b[39m\u001b[32m191\u001b[39m     value = \u001b[38;5;28;43mself\u001b[39;49m\u001b[43m.\u001b[49m\u001b[43m_fget\u001b[49m\u001b[43m(\u001b[49m\u001b[43mobj\u001b[49m\u001b[43m)\u001b[49m\n\u001b[32m    192\u001b[39m     obj.\u001b[34m__dict__\u001b[39m[\u001b[38;5;28mself\u001b[39m._name] = value\n\u001b[32m    193\u001b[39m \u001b[38;5;28;01mreturn\u001b[39;00m cast(_T, value)\n",
      "\u001b[36mFile \u001b[39m\u001b[32m~\\AppData\\Local\\anaconda3\\envs\\llms\\Lib\\site-packages\\pptx\\opc\\serialized.py:194\u001b[39m, in \u001b[36m_ZipPkgReader._blobs\u001b[39m\u001b[34m(self)\u001b[39m\n\u001b[32m    191\u001b[39m \u001b[38;5;129m@lazyproperty\u001b[39m\n\u001b[32m    192\u001b[39m \u001b[38;5;28;01mdef\u001b[39;00m\u001b[38;5;250m \u001b[39m\u001b[34m_blobs\u001b[39m(\u001b[38;5;28mself\u001b[39m) -> \u001b[38;5;28mdict\u001b[39m[PackURI, \u001b[38;5;28mbytes\u001b[39m]:\n\u001b[32m    193\u001b[39m \u001b[38;5;250m    \u001b[39m\u001b[33;03m\"\"\"dict mapping partname to package part binaries.\"\"\"\u001b[39;00m\n\u001b[32m--> \u001b[39m\u001b[32m194\u001b[39m     \u001b[38;5;28;01mwith\u001b[39;00m \u001b[43mzipfile\u001b[49m\u001b[43m.\u001b[49m\u001b[43mZipFile\u001b[49m\u001b[43m(\u001b[49m\u001b[38;5;28;43mself\u001b[39;49m\u001b[43m.\u001b[49m\u001b[43m_pkg_file\u001b[49m\u001b[43m,\u001b[49m\u001b[43m \u001b[49m\u001b[33;43m\"\u001b[39;49m\u001b[33;43mr\u001b[39;49m\u001b[33;43m\"\u001b[39;49m\u001b[43m)\u001b[49m \u001b[38;5;28;01mas\u001b[39;00m z:\n\u001b[32m    195\u001b[39m         \u001b[38;5;28;01mreturn\u001b[39;00m {PackURI(\u001b[33m\"\u001b[39m\u001b[33m/\u001b[39m\u001b[38;5;132;01m%s\u001b[39;00m\u001b[33m\"\u001b[39m % name): z.read(name) \u001b[38;5;28;01mfor\u001b[39;00m name \u001b[38;5;129;01min\u001b[39;00m z.namelist()}\n",
      "\u001b[36mFile \u001b[39m\u001b[32m~\\AppData\\Local\\anaconda3\\envs\\llms\\Lib\\zipfile.py:1313\u001b[39m, in \u001b[36mZipFile.__init__\u001b[39m\u001b[34m(self, file, mode, compression, allowZip64, compresslevel, strict_timestamps, metadata_encoding)\u001b[39m\n\u001b[32m   1311\u001b[39m \u001b[38;5;28;01mtry\u001b[39;00m:\n\u001b[32m   1312\u001b[39m     \u001b[38;5;28;01mif\u001b[39;00m mode == \u001b[33m'\u001b[39m\u001b[33mr\u001b[39m\u001b[33m'\u001b[39m:\n\u001b[32m-> \u001b[39m\u001b[32m1313\u001b[39m         \u001b[38;5;28;43mself\u001b[39;49m\u001b[43m.\u001b[49m\u001b[43m_RealGetContents\u001b[49m\u001b[43m(\u001b[49m\u001b[43m)\u001b[49m\n\u001b[32m   1314\u001b[39m     \u001b[38;5;28;01melif\u001b[39;00m mode \u001b[38;5;129;01min\u001b[39;00m (\u001b[33m'\u001b[39m\u001b[33mw\u001b[39m\u001b[33m'\u001b[39m, \u001b[33m'\u001b[39m\u001b[33mx\u001b[39m\u001b[33m'\u001b[39m):\n\u001b[32m   1315\u001b[39m         \u001b[38;5;66;03m# set the modified flag so central directory gets written\u001b[39;00m\n\u001b[32m   1316\u001b[39m         \u001b[38;5;66;03m# even if no files are added to the archive\u001b[39;00m\n\u001b[32m   1317\u001b[39m         \u001b[38;5;28mself\u001b[39m._didModify = \u001b[38;5;28;01mTrue\u001b[39;00m\n",
      "\u001b[36mFile \u001b[39m\u001b[32m~\\AppData\\Local\\anaconda3\\envs\\llms\\Lib\\zipfile.py:1380\u001b[39m, in \u001b[36mZipFile._RealGetContents\u001b[39m\u001b[34m(self)\u001b[39m\n\u001b[32m   1378\u001b[39m     \u001b[38;5;28;01mraise\u001b[39;00m BadZipFile(\u001b[33m\"\u001b[39m\u001b[33mFile is not a zip file\u001b[39m\u001b[33m\"\u001b[39m)\n\u001b[32m   1379\u001b[39m \u001b[38;5;28;01mif\u001b[39;00m \u001b[38;5;129;01mnot\u001b[39;00m endrec:\n\u001b[32m-> \u001b[39m\u001b[32m1380\u001b[39m     \u001b[38;5;28;01mraise\u001b[39;00m BadZipFile(\u001b[33m\"\u001b[39m\u001b[33mFile is not a zip file\u001b[39m\u001b[33m\"\u001b[39m)\n\u001b[32m   1381\u001b[39m \u001b[38;5;28;01mif\u001b[39;00m \u001b[38;5;28mself\u001b[39m.debug > \u001b[32m1\u001b[39m:\n\u001b[32m   1382\u001b[39m     \u001b[38;5;28mprint\u001b[39m(endrec)\n",
      "\u001b[31mBadZipFile\u001b[39m: File is not a zip file"
     ]
    }
   ],
   "source": [
    "f = open('test.pptx')\n",
    "prs = Presentation(f)\n",
    "f.close()\n",
    "\n",
    "# or\n",
    "\n",
    "with open('test.pptx') as f:\n",
    "    source_stream = StringIO(f.read())\n",
    "prs = Presentation(source_stream)\n",
    "source_stream.close()\n",
    "...\n",
    "target_stream = StringIO()\n",
    "prs.save(target_stream)"
   ]
  },
  {
   "cell_type": "code",
   "execution_count": 5,
   "id": "be14ca7d-598b-48da-8576-636686713179",
   "metadata": {},
   "outputs": [],
   "source": [
    "from pptx import Presentation\n",
    "from io import BytesIO\n",
    "\n",
    "# Option 1: direct open\n",
    "with open(\"test.pptx\", \"rb\") as f:\n",
    "    prs = Presentation(f)\n",
    "\n",
    "# ... work with prs ...\n",
    "\n",
    "with open(\"newfile.pptx\", \"wb\") as f:\n",
    "    prs.save(f)\n",
    "\n",
    "\n",
    "# Option 2: copy to BytesIO\n",
    "with open(\"test.pptx\", \"rb\") as f:\n",
    "    source_stream = BytesIO(f.read())\n",
    "prs = Presentation(source_stream)\n",
    "\n",
    "target_stream = BytesIO()\n",
    "prs.save(target_stream)\n"
   ]
  },
  {
   "cell_type": "code",
   "execution_count": 6,
   "id": "3e08d31d-64b7-4898-9a50-d9b260bb1965",
   "metadata": {},
   "outputs": [],
   "source": [
    "for shape in slide.shapes:\n",
    "    if not shape.has_text_frame:\n",
    "        continue\n",
    "    text_frame = shape.text_frame"
   ]
  },
  {
   "cell_type": "code",
   "execution_count": 7,
   "id": "7b8f3016-2500-47cb-8e8e-87457fe9db65",
   "metadata": {},
   "outputs": [
    {
     "data": {
      "text/plain": [
       "<pptx.text.text.TextFrame at 0x2584a014790>"
      ]
     },
     "execution_count": 7,
     "metadata": {},
     "output_type": "execute_result"
    }
   ],
   "source": [
    "text_frame"
   ]
  },
  {
   "cell_type": "code",
   "execution_count": 8,
   "id": "6a8915aa-2494-4e83-bfcc-f6f4eacfcab3",
   "metadata": {},
   "outputs": [
    {
     "name": "stdout",
     "output_type": "stream",
     "text": [
      "<pptx.text.text.TextFrame object at 0x000002584A014790>\n"
     ]
    }
   ],
   "source": [
    "print(text_frame)"
   ]
  },
  {
   "cell_type": "code",
   "execution_count": 29,
   "id": "f79e1a15-d3e0-4def-bfa1-a83285f4e5a4",
   "metadata": {},
   "outputs": [
    {
     "name": "stdout",
     "output_type": "stream",
     "text": [
      "\n",
      "--- Slide 1 ---\n",
      "Adding a Bullet Slide\n",
      "Find the bullet slide layout\n",
      "Use _TextFrame.text for first bullet\n",
      "Use _TextFrame.add_paragraph() for subsequent bullets\n",
      "\n",
      "--- Slide 1 ---\n",
      "Adding a Bullet Slide\n",
      "Find the bullet slide layout\n",
      "Use _TextFrame.text for first bullet\n",
      "Use _TextFrame.add_paragraph() for subsequent bullets\n"
     ]
    }
   ],
   "source": [
    "from pptx import Presentation\n",
    "\n",
    "# Load an existing PowerPoint\n",
    "prs = Presentation(\"test.pptx\")\n",
    "newtext=\"\"\n",
    "# Loop over all slides\n",
    "for i, slide in enumerate(prs.slides, start=1):\n",
    "    print(f\"\\n--- Slide {i} ---\")\n",
    "    newtext += f\"\\n--- Slide {i} ---\"\n",
    "\n",
    "    # Loop over shapes (text boxes, titles, placeholders, etc.)\n",
    "    for shape in slide.shapes:\n",
    "        if shape.has_text_frame:  # Only shapes that can contain text\n",
    "            for paragraph in shape.text_frame.paragraphs:\n",
    "                # Collect text from each run in the paragraph\n",
    "                text = \"\".join(run.text for run in paragraph.runs)\n",
    "                print(text)\n",
    "                newtext += f\"\\n{text}\"\n",
    "print(newtext)"
   ]
  },
  {
   "cell_type": "code",
   "execution_count": 10,
   "id": "2194dc46-79ef-4524-83c2-98afb0f78aec",
   "metadata": {},
   "outputs": [
    {
     "name": "stdout",
     "output_type": "stream",
     "text": [
      "--- Slide 1 ---\n",
      "Adding a Bullet Slide\n",
      "Find the bullet slide layout\n",
      "Use _TextFrame.text for first bullet\n",
      "Use _TextFrame.add_paragraph() for subsequent bullets\n"
     ]
    }
   ],
   "source": [
    "from pptx import Presentation\n",
    "\n",
    "def extract_text_as_string(path):\n",
    "    prs = Presentation(path)\n",
    "    all_text = []\n",
    "\n",
    "    for i, slide in enumerate(prs.slides, start=1):\n",
    "        slide_text = [f\"--- Slide {i} ---\"]\n",
    "        for shape in slide.shapes:\n",
    "            if shape.has_text_frame:\n",
    "                for paragraph in shape.text_frame.paragraphs:\n",
    "                    text = \"\".join(run.text for run in paragraph.runs)\n",
    "                    if text.strip():  # skip empty lines\n",
    "                        slide_text.append(text)\n",
    "        all_text.append(\"\\n\".join(slide_text))\n",
    "    \n",
    "    return \"\\n\\n\".join(all_text)\n",
    "\n",
    "text_output = extract_text_as_string(\"test.pptx\")\n",
    "print(text_output)\n"
   ]
  },
  {
   "cell_type": "code",
   "execution_count": 11,
   "id": "02248d4b-7ce7-4528-bd9e-6fa5e2415750",
   "metadata": {},
   "outputs": [
    {
     "name": "stdout",
     "output_type": "stream",
     "text": [
      "{\n",
      "  \"Slide 1\": [\n",
      "    \"Adding a Bullet Slide\",\n",
      "    \"Find the bullet slide layout\",\n",
      "    \"Use _TextFrame.text for first bullet\",\n",
      "    \"Use _TextFrame.add_paragraph() for subsequent bullets\"\n",
      "  ]\n",
      "}\n"
     ]
    }
   ],
   "source": [
    "from pptx import Presentation\n",
    "import json\n",
    "\n",
    "def extract_text_as_dict(path):\n",
    "    prs = Presentation(path)\n",
    "    slides_data = {}\n",
    "\n",
    "    for i, slide in enumerate(prs.slides, start=1):\n",
    "        slide_key = f\"Slide {i}\"\n",
    "        slide_texts = []\n",
    "        for shape in slide.shapes:\n",
    "            if shape.has_text_frame:\n",
    "                for paragraph in shape.text_frame.paragraphs:\n",
    "                    text = \"\".join(run.text for run in paragraph.runs)\n",
    "                    if text.strip():\n",
    "                        slide_texts.append(text)\n",
    "        slides_data[slide_key] = slide_texts\n",
    "    \n",
    "    return slides_data\n",
    "\n",
    "slides_dict = extract_text_as_dict(\"test.pptx\")\n",
    "\n",
    "# Pretty print JSON\n",
    "print(json.dumps(slides_dict, indent=2))\n"
   ]
  },
  {
   "cell_type": "code",
   "execution_count": 12,
   "id": "87eeed3d-2305-4e0f-a578-0fbd8dc761e7",
   "metadata": {},
   "outputs": [],
   "source": [
    "# %pip install python-pptx\n",
    "\n",
    "import os, json, glob\n",
    "from pptx import Presentation\n",
    "\n",
    "def extract_slide_texts(pptx_path):\n",
    "    prs = Presentation(pptx_path)\n",
    "    slides = []\n",
    "    for i, slide in enumerate(prs.slides, start=1):\n",
    "        lines = []\n",
    "        for shape in slide.shapes:\n",
    "            if shape.has_text_frame:\n",
    "                for para in shape.text_frame.paragraphs:\n",
    "                    text = \"\".join(run.text for run in para.runs).strip()\n",
    "                    if text:\n",
    "                        lines.append(text)\n",
    "        slides.append({\"slide_index\": i, \"lines\": lines})\n",
    "    return slides\n",
    "\n",
    "def slides_to_string(slides):\n",
    "    \"\"\"Convert list of slide dicts into one string for LLM.\"\"\"\n",
    "    chunks = []\n",
    "    for s in slides:\n",
    "        if s[\"lines\"]:\n",
    "            chunks.append(f\"Slide {s['slide_index']}:\\n\" + \"\\n\".join(s[\"lines\"]))\n",
    "    return \"\\n\\n\".join(chunks)"
   ]
  },
  {
   "cell_type": "code",
   "execution_count": 32,
   "id": "fdbc8e3c-d380-4e25-8557-53cd43b36cce",
   "metadata": {},
   "outputs": [
    {
     "data": {
      "text/plain": [
       "[{'slide_index': 1,\n",
       "  'lines': ['Adding a Bullet Slide',\n",
       "   'Find the bullet slide layout',\n",
       "   'Use _TextFrame.text for first bullet',\n",
       "   'Use _TextFrame.add_paragraph() for subsequent bullets']}]"
      ]
     },
     "execution_count": 32,
     "metadata": {},
     "output_type": "execute_result"
    }
   ],
   "source": [
    "extract_slide_texts(\"test.pptx\")"
   ]
  },
  {
   "cell_type": "code",
   "execution_count": 13,
   "id": "233f8c79-0313-48c6-990f-16e9d87f699f",
   "metadata": {},
   "outputs": [],
   "source": [
    "def extract_many(pptx_paths, out_jsonl=\"slides.jsonl\"):\n",
    "    \"\"\"\n",
    "    Writes one JSON object per line with:\n",
    "    {\n",
    "      \"deck_path\": \"...\",\n",
    "      \"deck_name\": \"...\",\n",
    "      \"slide_index\": 1,\n",
    "      \"lines\": [\"...\", \"...\"],\n",
    "      \"deck_text\": \"whole deck concatenated (for deck-level summary)\"\n",
    "    }\n",
    "    \"\"\"\n",
    "    with open(out_jsonl, \"w\", encoding=\"utf-8\") as f:\n",
    "        for path in pptx_paths:\n",
    "            slides = extract_slide_texts(path)\n",
    "            deck_text = \"\\n\".join(\n",
    "                \"\\n\".join(s[\"lines\"]) for s in slides if s[\"lines\"]\n",
    "            ).strip()\n",
    "            deck_name = os.path.basename(path)\n",
    "            for s in slides:\n",
    "                rec = {\n",
    "                    \"deck_path\": path,\n",
    "                    \"deck_name\": deck_name,\n",
    "                    \"slide_index\": s[\"slide_index\"],\n",
    "                    \"lines\": s[\"lines\"],\n",
    "                    \"deck_text\": deck_text\n",
    "                }\n",
    "                f.write(json.dumps(rec, ensure_ascii=False) + \"\\n\")\n",
    "                print(rec)\n",
    "\n"
   ]
  },
  {
   "cell_type": "code",
   "execution_count": 14,
   "id": "7fa37384-223f-4806-b121-6263e909c31a",
   "metadata": {},
   "outputs": [
    {
     "name": "stdout",
     "output_type": "stream",
     "text": [
      "{'deck_path': 'new-file-name.pptx', 'deck_name': 'new-file-name.pptx', 'slide_index': 1, 'lines': ['Adding a Bullet Slide', 'Find the bullet slide layout', 'Use _TextFrame.text for first bullet', 'Use _TextFrame.add_paragraph() for subsequent bullets'], 'deck_text': 'Adding a Bullet Slide\\nFind the bullet slide layout\\nUse _TextFrame.text for first bullet\\nUse _TextFrame.add_paragraph() for subsequent bullets'}\n",
      "{'deck_path': 'newfile.pptx', 'deck_name': 'newfile.pptx', 'slide_index': 1, 'lines': ['Adding a Bullet Slide', 'Find the bullet slide layout', 'Use _TextFrame.text for first bullet', 'Use _TextFrame.add_paragraph() for subsequent bullets'], 'deck_text': 'Adding a Bullet Slide\\nFind the bullet slide layout\\nUse _TextFrame.text for first bullet\\nUse _TextFrame.add_paragraph() for subsequent bullets'}\n",
      "{'deck_path': 'test.pptx', 'deck_name': 'test.pptx', 'slide_index': 1, 'lines': ['Adding a Bullet Slide', 'Find the bullet slide layout', 'Use _TextFrame.text for first bullet', 'Use _TextFrame.add_paragraph() for subsequent bullets'], 'deck_text': 'Adding a Bullet Slide\\nFind the bullet slide layout\\nUse _TextFrame.text for first bullet\\nUse _TextFrame.add_paragraph() for subsequent bullets'}\n",
      "Wrote slide records to slides.jsonl (one line per slide).\n"
     ]
    }
   ],
   "source": [
    "# Example: all PPTX files in a folder\n",
    "pptx_files = glob.glob(\"presentations/**/*.pptx\", recursive=True) or glob.glob(\"*.pptx\")\n",
    "extract_many(pptx_files, out_jsonl=\"slides.jsonl\")\n",
    "print(f\"Wrote slide records to slides.jsonl (one line per slide).\")\n"
   ]
  },
  {
   "cell_type": "code",
   "execution_count": 15,
   "id": "2e267c32-f714-47b9-8cc5-f3bd79570392",
   "metadata": {},
   "outputs": [],
   "source": [
    "system_prompt = \"You are an assistant that analyzes the contents of several pptx files \\\n",
    "and creates a short humorous, entertaining summary. Respond in markdown.\\\n",
    "Include details of the number of pages and text format and shapes\""
   ]
  },
  {
   "cell_type": "code",
   "execution_count": 16,
   "id": "012dbc64-c547-469e-a4aa-c36d098e87f9",
   "metadata": {},
   "outputs": [
    {
     "name": "stdout",
     "output_type": "stream",
     "text": [
      "{'deck_path': 'new-file-name.pptx', 'deck_name': 'new-file-name.pptx', 'slide_index': 1, 'lines': ['Adding a Bullet Slide', 'Find the bullet slide layout', 'Use _TextFrame.text for first bullet', 'Use _TextFrame.add_paragraph() for subsequent bullets'], 'deck_text': 'Adding a Bullet Slide\\nFind the bullet slide layout\\nUse _TextFrame.text for first bullet\\nUse _TextFrame.add_paragraph() for subsequent bullets'}\n",
      "{'deck_path': 'newfile.pptx', 'deck_name': 'newfile.pptx', 'slide_index': 1, 'lines': ['Adding a Bullet Slide', 'Find the bullet slide layout', 'Use _TextFrame.text for first bullet', 'Use _TextFrame.add_paragraph() for subsequent bullets'], 'deck_text': 'Adding a Bullet Slide\\nFind the bullet slide layout\\nUse _TextFrame.text for first bullet\\nUse _TextFrame.add_paragraph() for subsequent bullets'}\n",
      "{'deck_path': 'test.pptx', 'deck_name': 'test.pptx', 'slide_index': 1, 'lines': ['Adding a Bullet Slide', 'Find the bullet slide layout', 'Use _TextFrame.text for first bullet', 'Use _TextFrame.add_paragraph() for subsequent bullets'], 'deck_text': 'Adding a Bullet Slide\\nFind the bullet slide layout\\nUse _TextFrame.text for first bullet\\nUse _TextFrame.add_paragraph() for subsequent bullets'}\n"
     ]
    }
   ],
   "source": [
    "import json\n",
    "\n",
    "with open(\"slides.jsonl\", \"r\", encoding=\"utf-8\") as f:\n",
    "    for line in f:\n",
    "        record = json.loads(line)  # parse JSON from one line\n",
    "        print(record)\n"
   ]
  },
  {
   "cell_type": "code",
   "execution_count": 17,
   "id": "43b63c38-e920-4f8e-be23-46048fdc1a56",
   "metadata": {},
   "outputs": [],
   "source": [
    "def get_brochure_user_prompt(path):\n",
    "    user_prompt = f\"You are looking at a folder with pptx presentations.\\n\"\n",
    "    user_prompt += f\"Here are the contents of its slides; use this information to build a short summary in markdown.\\n\"\n",
    "    slides = extract_slide_texts(path)\n",
    "    user_prompt += slides_to_string(slides)\n",
    "    user_prompt = user_prompt[:5_000] # Truncate if more than 5,000 characters\n",
    "    return user_prompt"
   ]
  },
  {
   "cell_type": "code",
   "execution_count": 18,
   "id": "295da853-1dfd-4ca1-9f61-aac57ccd0bee",
   "metadata": {},
   "outputs": [],
   "source": [
    "# imports\n",
    "# If these fail, please check you're running from an 'activated' environment with (llms) in the command prompt\n",
    "\n",
    "import os\n",
    "import requests\n",
    "import json\n",
    "from typing import List\n",
    "from dotenv import load_dotenv\n",
    "from bs4 import BeautifulSoup\n",
    "from IPython.display import Markdown, display, update_display\n",
    "from openai import OpenAI"
   ]
  },
  {
   "cell_type": "code",
   "execution_count": 19,
   "id": "69fcda3b-eac3-4220-bde3-17dc830e7743",
   "metadata": {},
   "outputs": [
    {
     "name": "stdout",
     "output_type": "stream",
     "text": [
      "API key looks good so far\n"
     ]
    }
   ],
   "source": [
    "# Initialize and constants\n",
    "\n",
    "load_dotenv(override=True)\n",
    "api_key = os.getenv('OPENAI_API_KEY')\n",
    "\n",
    "if api_key and api_key.startswith('sk-proj-') and len(api_key)>10:\n",
    "    print(\"API key looks good so far\")\n",
    "else:\n",
    "    print(\"There might be a problem with your API key? Please visit the troubleshooting notebook!\")\n",
    "    \n",
    "MODEL = 'gpt-4o-mini'\n",
    "openai = OpenAI()"
   ]
  },
  {
   "cell_type": "code",
   "execution_count": 20,
   "id": "2a1bcc38-434e-4f48-953c-b4796aff1580",
   "metadata": {},
   "outputs": [],
   "source": [
    "def pptx_summary(path):\n",
    "    response = openai.chat.completions.create(\n",
    "        model=MODEL,\n",
    "        messages=[\n",
    "            {\"role\": \"system\", \"content\": system_prompt},\n",
    "            {\"role\": \"user\", \"content\": get_brochure_user_prompt(path)}\n",
    "          ],\n",
    "    )\n",
    "    result = response.choices[0].message.content\n",
    "    display(Markdown(result))"
   ]
  },
  {
   "cell_type": "code",
   "execution_count": 22,
   "id": "8224fade-b33e-4b3a-ad95-815700db1e83",
   "metadata": {},
   "outputs": [
    {
     "data": {
      "text/markdown": [
       "# Presentation Summary: \"Bulletproof Your Slides!\"\n",
       "\n",
       "**Total Pages:** 1  \n",
       "**Text Format:** Standard text for instructions  \n",
       "**Shapes:** A lone slide - resembling a single bullet waiting for action!\n",
       "\n",
       "---\n",
       "\n",
       "In this compact but mighty presentation, we dive into the art of bullet-point ninja tactics! 🌟 The singular slide teaches the essential tricks of the trade for presenting information clearly and concisely. \n",
       "\n",
       "- **Step 1:** Hunt down the elusive bullet slide layout. (Seriously, it's not hiding under your couch!)\n",
       "- **Step 2:** Use `_TextFrame.text` for your first bullet — as if you’re picking the first strawberry off the bush!\n",
       "- **Step 3:** For all the subsequent bullets, unleash your creativity with `_TextFrame.add_paragraph()`. Who knew adding content could be so exciting!?\n",
       "\n",
       "One slide is all you need to transform your presentations from 'blah' to 'ta-da!' ✨ Just remember, every bullet point should pack a punch — after all, it’s a bullet slide, not a marshmallow slide!"
      ],
      "text/plain": [
       "<IPython.core.display.Markdown object>"
      ]
     },
     "metadata": {},
     "output_type": "display_data"
    }
   ],
   "source": [
    "pptx_summary(\"test.pptx\")"
   ]
  },
  {
   "cell_type": "code",
   "execution_count": null,
   "id": "7bec61df-72bb-4027-be6c-b5198d535f1e",
   "metadata": {},
   "outputs": [],
   "source": [
    "pptx_summary(\"Malala_Yousafzai.pptx\")"
   ]
  },
  {
   "cell_type": "code",
   "execution_count": 14,
   "id": "2a277326-df63-4f43-82a7-413c7d65aca1",
   "metadata": {},
   "outputs": [
    {
     "data": {
      "text/markdown": [
       "# Shakespeare: The Bard with a Quill\n",
       "\n",
       "## Overview\n",
       "This delightful slide show contains **4 pages** packed with insights about the life and times of William Shakespeare, a guy who was basically the **Taylor Swift of the 16th century** (minus the hair flips and Instagram). \n",
       "\n",
       "### Slide Breakdown\n",
       "\n",
       "- **Slide 1: Early Life**\n",
       "  - Text: Bullet points summarizing his birth, family, education, marriage, and his efforts to keep up with child support (3 children, folks!).\n",
       "  - Total Shapes: 1 main textbox with cleverly formatted bullets.\n",
       "  - Fun Fact: Born in Stratford-upon-Avon, where \"Shakespeare\" was probably the most-used surname after \"Glove-maker.\"\n",
       "\n",
       "- **Slide 2: Career Beginnings**\n",
       "  - Text: Highlights of his move to London, gaining fame, and co-founding an acting company (no pressure, right?). \n",
       "  - Total Shapes: 1 main textbox with bullets and a side note about his early works looking a little too much like sad poetry.\n",
       "  - Notable Moment: Launched his career with *Venus and Adonis*—the title sounds romantic, but don't be fooled!\n",
       "\n",
       "- **Slide 3: Major Works**\n",
       "  - Text: A rundown of plays, sonnets, and poems, categorized like Tinder interests.\n",
       "  - Total Shapes: 1 core textbox with classified genres. \n",
       "  - Comedic Gold: Listed tragedies help you figure out who should definitely *not* get invited to your party!\n",
       "\n",
       "- **Slide 4: Later Life & Legacy**\n",
       "  - Text: Summarizes his retirement, death, and how he managed to become an immortal star in the literary cosmos.\n",
       "  - Total Shapes: 1 textbox that manages to pack in his burial place and a global legacy.\n",
       "  - Mic Drop: The line about his works being translated into every major language is just an indication that he was the original influencer. \n",
       "\n",
       "### Conclusion\n",
       "In summary, this presentation was a splendid tour through Shakespeare's life, highlighting the ups and downs while reminding us that even in the 16th century, writing about tragic love was all the rage. So, raise a glass to the man who gave us “To be or not to be!”—a deep question that currently has us all just contemplating dinner choices. 🍽️🎭"
      ],
      "text/plain": [
       "<IPython.core.display.Markdown object>"
      ]
     },
     "metadata": {},
     "output_type": "display_data"
    }
   ],
   "source": [
    "pptx_summary(\"Shakespeare_Highlights.pptx\")"
   ]
  },
  {
   "cell_type": "code",
   "execution_count": 15,
   "id": "6f4c74c2-8c1e-4d17-935d-a4e2fbc984a2",
   "metadata": {},
   "outputs": [
    {
     "data": {
      "text/markdown": [
       "# A Journey through the Life of Nelson Mandela: A PPTX Extravaganza!\n",
       "\n",
       "**Total Pages:** 4  \n",
       "**Text Format:** Classic Black & White (because why let colors get in the way of a historical narrative?!)  \n",
       "**Shapes Used:** Probably rectangles for text boxes, because let’s keep it simple, folks!\n",
       "\n",
       "---\n",
       "\n",
       "**Slide 1: Introduction**\n",
       "- **Title:** \"Nelson Mandela Highlights of a Notable Life\"  \n",
       "  (You just know this guy is going places!)\n",
       "\n",
       "**Slide 2: Early Life** \n",
       "- **Fun Facts:**  \n",
       "  - Born in 1918, which means he was around for the invention of sliced bread! (Not that it mattered, given the apartheid crisis.)\n",
       "  - Studied law—clearly preparing for a future with more than a few courtroom dramas!\n",
       "\n",
       "**Slide 3: Major Achievements**\n",
       "- **Anticipation Building:** \n",
       "  - Activist extraordinaire—imprisoned for *27 years*! (Talk about a long timeout!)\n",
       "  - Became South Africa’s first Black president in 1994. If that’s not the ultimate comeback story, what is?\n",
       "\n",
       "**Slide 4: Legacy & Impact**\n",
       "- **Something to Think About:** \n",
       "  - The ultimate symbol of peace, reconciliation, and justice—like a superhero, but without the cape! \n",
       "  - Nobel Peace Prize? Check! He inspired human rights movements worldwide! (Pretty sure he has a \"World’s Best Human\" mug somewhere.)\n",
       "\n",
       "---\n",
       "\n",
       "And there you have it—a heartwarming and slightly amusing recap of Nelson Mandela’s life, reminding us that one man can indeed make a world of difference, all while keeping it stylishly succinct! 🌍💫"
      ],
      "text/plain": [
       "<IPython.core.display.Markdown object>"
      ]
     },
     "metadata": {},
     "output_type": "display_data"
    }
   ],
   "source": [
    "pptx_summary(\"Nelson_Mandela.pptx\")"
   ]
  },
  {
   "cell_type": "code",
   "execution_count": null,
   "id": "a17b5338-89ea-47a8-b358-f09e6eb4f010",
   "metadata": {},
   "outputs": [],
   "source": [
    "\n",
    "def pptx_summary(path):\n",
    "    MODEL = \"llama3.2\"\n",
    "    ollama_via_openai = OpenAI(base_url='http://localhost:11434/v1', api_key='ollama')\n",
    "    \n",
    "    response = ollama_via_openai.chat.completions.create(\n",
    "        model=MODEL,\n",
    "        messages=[\n",
    "            {\"role\": \"system\", \"content\": system_prompt},\n",
    "            {\"role\": \"user\", \"content\": get_brochure_user_prompt(path)}\n",
    "          ],\n",
    "    )\n",
    "    result = response.choices[0].message.content\n",
    "    display(Markdown(result))"
   ]
  },
  {
   "cell_type": "code",
   "execution_count": null,
   "id": "7c9464cd-9859-44bc-9d72-73743caf6805",
   "metadata": {},
   "outputs": [],
   "source": [
    "pptx_summary(\"Shakespeare_Highlights.pptx\")"
   ]
  },
  {
   "cell_type": "code",
   "execution_count": null,
   "id": "266e600d-03d0-43ce-b20a-ac6cc2cc7499",
   "metadata": {},
   "outputs": [],
   "source": []
  }
 ],
 "metadata": {
  "kernelspec": {
   "display_name": "Python 3 (ipykernel)",
   "language": "python",
   "name": "python3"
  },
  "language_info": {
   "codemirror_mode": {
    "name": "ipython",
    "version": 3
   },
   "file_extension": ".py",
   "mimetype": "text/x-python",
   "name": "python",
   "nbconvert_exporter": "python",
   "pygments_lexer": "ipython3",
   "version": "3.11.13"
  }
 },
 "nbformat": 4,
 "nbformat_minor": 5
}
