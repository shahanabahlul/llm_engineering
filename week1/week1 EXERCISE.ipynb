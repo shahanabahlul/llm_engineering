{
 "cells": [
  {
   "cell_type": "markdown",
   "id": "fe12c203-e6a6-452c-a655-afb8a03a4ff5",
   "metadata": {},
   "source": [
    "# End of week 1 exercise\n",
    "\n",
    "To demonstrate your familiarity with OpenAI API, and also Ollama, build a tool that takes a technical question,  \n",
    "and responds with an explanation. This is a tool that you will be able to use yourself during the course!"
   ]
  },
  {
   "cell_type": "code",
   "execution_count": 1,
   "id": "c1070317-3ed9-4659-abe3-828943230e03",
   "metadata": {},
   "outputs": [],
   "source": [
    "# imports\n",
    "\n",
    "import os\n",
    "import requests\n",
    "import json\n",
    "from typing import List\n",
    "from dotenv import load_dotenv\n",
    "from bs4 import BeautifulSoup\n",
    "from IPython.display import Markdown, display, update_display\n",
    "from openai import OpenAI"
   ]
  },
  {
   "cell_type": "code",
   "execution_count": 2,
   "id": "0f72dab0-f399-4d2f-a581-549f5580fe30",
   "metadata": {},
   "outputs": [
    {
     "name": "stdout",
     "output_type": "stream",
     "text": [
      "API key looks good so far\n"
     ]
    }
   ],
   "source": [
    "# OpenAI API key sanity check\n",
    "load_dotenv(override=True)\n",
    "api_key = os.getenv('OPENAI_API_KEY')\n",
    "\n",
    "if api_key and api_key.startswith('sk-proj-') and len(api_key)>10:\n",
    "    print(\"API key looks good so far\")\n",
    "else:\n",
    "    print(\"There might be a problem with your API key? Please visit the troubleshooting notebook!\")\n",
    "    \n",
    "MODEL = 'gpt-4o-mini'\n",
    "openai = OpenAI()"
   ]
  },
  {
   "cell_type": "code",
   "execution_count": 3,
   "id": "4a456906-915a-4bfd-bb9d-57e505c5093f",
   "metadata": {},
   "outputs": [],
   "source": [
    "# constants\n",
    "\n",
    "MODEL_GPT = 'gpt-4o-mini'\n",
    "MODEL_LLAMA = 'llama3.2'"
   ]
  },
  {
   "cell_type": "code",
   "execution_count": 4,
   "id": "a8d7923c-5f28-4c30-8556-342d7c8497c1",
   "metadata": {},
   "outputs": [],
   "source": [
    "# set up environment\n",
    "\n",
    "system_prompt = \"\"\"\n",
    "You are a tech expert and know every coding language, and can give \n",
    "nice, detailed and simple explanations for the given questions.\n",
    "\"\"\""
   ]
  },
  {
   "cell_type": "code",
   "execution_count": 5,
   "id": "3f0d0137-52b0-47a8-81a8-11a90a010798",
   "metadata": {},
   "outputs": [],
   "source": [
    "# here is the question; type over this to ask something new\n",
    "\n",
    "question = \"\"\"\n",
    "Please explain what this code does and why:\n",
    "yield from {book.get(\"author\") for book in books if book.get(\"author\")}\n",
    "\"\"\""
   ]
  },
  {
   "cell_type": "code",
   "execution_count": 6,
   "id": "60ce7000-a4a5-4cce-a261-e75ef45063b4",
   "metadata": {},
   "outputs": [],
   "source": [
    "# Get gpt-4o-mini to answer, with streaming\n",
    "\n",
    "def stream_brochure():\n",
    "    stream = openai.chat.completions.create(\n",
    "        model=MODEL_GPT,\n",
    "        messages=[\n",
    "            {\"role\": \"system\", \"content\": system_prompt},\n",
    "            {\"role\": \"user\", \"content\": question}\n",
    "          ],\n",
    "        stream=True\n",
    "    )\n",
    "    \n",
    "    response = \"\"\n",
    "    display_handle = display(Markdown(\"\"), display_id=True)\n",
    "    for chunk in stream:\n",
    "        response += chunk.choices[0].delta.content or ''\n",
    "        response = response.replace(\"```\",\"\").replace(\"markdown\", \"\")\n",
    "        update_display(Markdown(response), display_id=display_handle.display_id)\n"
   ]
  },
  {
   "cell_type": "code",
   "execution_count": 7,
   "id": "4e2d3dd2-3558-4e0a-9d00-aefb072922f0",
   "metadata": {
    "scrolled": true
   },
   "outputs": [
    {
     "data": {
      "text/markdown": [
       "Certainly! Let's break down the code snippet you provided:\n",
       "\n",
       "python\n",
       "yield from {book.get(\"author\") for book in books if book.get(\"author\")}\n",
       "\n",
       "### Understanding Each Part of the Code\n",
       "\n",
       "1. **`yield from`**:\n",
       "   - This is a statement used in Python generators. It allows a generator to yield values from another iterable. When you use `yield from`, it essentially delegates the yielding of values to the iterable that follows it. \n",
       "\n",
       "2. **Set Comprehension: `{...}`**:\n",
       "   - The part inside the curly braces `{...}` is a set comprehension. Set comprehensions are used to create a set in Python—an unordered collection of unique elements.\n",
       "   - In this case, the set comprehension is populated with values derived from the expression `book.get(\"author\")` for each `book` in the `books` collection.\n",
       "\n",
       "3. **Iterating through `books`**:\n",
       "   - `for book in books`: This part iterates through each `book` in a collection called `books`. It's assumed that `books` is a list (or another iterable) of dictionaries, where each dictionary represents a book.\n",
       "\n",
       "4. **`book.get(\"author\")`**:\n",
       "   - This expression fetches the value associated with the key `\"author\"` from each `book` dictionary. The `get` method is used here because it safely returns `None` if the key does not exist, instead of raising a KeyError.\n",
       "\n",
       "5. **`if book.get(\"author\")`**:\n",
       "   - This is a conditional filter. It checks if the value fetched by `book.get(\"author\")` is truthy (non-null and non-empty). This means that only books with a valid author will be considered for inclusion in the set.\n",
       "\n",
       "### What the Code Does\n",
       "The entire line of code constructs a set of unique authors from a list of books, filtering out any books that do not have an author.\n",
       "\n",
       "- **Unique Result**: Since it uses a set comprehension, any duplicate author names will only appear once in the final set due to the properties of a set (which only stores unique values).\n",
       "\n",
       "- **Yields Authors**: After creating the set of authors, `yield from` will yield each author name one at a time when this generator function is executed.\n",
       "\n",
       "### Example\n",
       "Here's a simple example to illustrate:\n",
       "\n",
       "python\n",
       "books = [\n",
       "    {\"title\": \"Book A\", \"author\": \"Author 1\"},\n",
       "    {\"title\": \"Book B\", \"author\": \"Author 2\"},\n",
       "    {\"title\": \"Book C\", \"author\": None},\n",
       "    {\"title\": \"Book D\", \"author\": \"Author 1\"},\n",
       "]\n",
       "\n",
       "def get_unique_authors(books):\n",
       "    yield from {book.get(\"author\") for book in books if book.get(\"author\")}\n",
       "\n",
       "# Calling the generator\n",
       "for author in get_unique_authors(books):\n",
       "    print(author)\n",
       "\n",
       "\n",
       "**Output**:\n",
       "\n",
       "Author 1\n",
       "Author 2\n",
       "\n",
       "\n",
       "### Conclusion\n",
       "To summarize, the code snippet efficiently collects and yields unique authors from a list of book dictionaries, filtering out any entries without an author. This approach is useful for extracting specific data while ensuring that duplicates are eliminated."
      ],
      "text/plain": [
       "<IPython.core.display.Markdown object>"
      ]
     },
     "metadata": {},
     "output_type": "display_data"
    }
   ],
   "source": [
    "stream_brochure()"
   ]
  },
  {
   "cell_type": "code",
   "execution_count": 12,
   "id": "8f7c8ea8-4082-4ad0-8751-3301adcf6538",
   "metadata": {},
   "outputs": [],
   "source": [
    "# Get Llama 3.2 to answer\n",
    "\n",
    "def llama_answer():\n",
    "    ollama_via_openai = OpenAI(base_url='http://localhost:11434/v1', api_key='ollama')\n",
    "    \n",
    "    stream = ollama_via_openai.chat.completions.create(\n",
    "        model=MODEL_LLAMA,\n",
    "        messages=[\n",
    "            {\"role\": \"system\", \"content\": system_prompt},\n",
    "            {\"role\": \"user\", \"content\": question}\n",
    "          ],\n",
    "        stream=True\n",
    "    )\n",
    "    response = \"\"\n",
    "    display_handle = display(Markdown(\"\"), display_id=True)\n",
    "    for chunk in stream:\n",
    "        response += chunk.choices[0].delta.content or ''\n",
    "        response = response.replace(\"```\",\"\").replace(\"markdown\", \"\")\n",
    "        update_display(Markdown(response), display_id=display_handle.display_id)"
   ]
  },
  {
   "cell_type": "code",
   "execution_count": 13,
   "id": "4890c1c6-166a-4ef4-aff2-491fa8672bcb",
   "metadata": {},
   "outputs": [
    {
     "data": {
      "text/markdown": [
       "**Code Breakdown**\n",
       "\n",
       "This line of code uses a combination of dictionary methods (`get`), list comprehension, and `yield from` to achieve an interesting result.\n",
       "\n",
       "Here's a step-by-step explanation:\n",
       "\n",
       "1. `{book.get(\"author\") for book in books if book.get(\"author\")}` is a dictionary comprehension (sometimes called nested dictionary comprehension). It iterates over the keys in the `books` dictionary.\n",
       "2. The syntax `for book in books if book.get(\"author\")` filters the iteration to only include dictionaries (`book`) that have a \"author\" key present.\n",
       "\n",
       "The resulting dictionary comprehension returns an iterable view object, which is an iterator over the values associated with the matching keys.\n",
       "\n",
       "3. `yield from ...` is a built-in Python keyword used in conjunction with generators (functions defined with the `yield` keyword). When used, it de-legitimizes the expression to be iterated as is, yielding each item that was originally present.\n",
       "\n",
       "**What happens when you combine these parts?**\n",
       "\n",
       "When this code snippet is executed:\n",
       "\n",
       "* It'll skip dictionaries (`book`) in the original `books` array where there's no \"author\" key. This effectively creates a view of only those books with authors.\n",
       "\n",
       "* For each book dictionary (with an author), it yields that author's name as an element to create another iterable generator object, **only if** another book has the same author, **AND**, it is also accessible through `books`, or simply: if there exists at least one matching \"author\" in a book of our current iteration.\n",
       "\n",
       "The code appears to achieve several things:\n",
       "\n",
       "- Filter out empty lists (where `book` has no \"author\".\n",
       "  \n",
       "  e.g.,\n",
       "   - If the list [1], then when processing \"title\":\n",
       "\n",
       "      python\n",
       "      {\n",
       "        key: value \n",
       "        for key, value in books.items() if book.get(\"author\")\n",
       "      }\n",
       "\n",
       "\n",
       "   becomes \n",
       "     **{['value']\n",
       "\n",
       "python\n",
       "{\n",
       "key: value\n",
       "for  (book):key in book.keys()\n",
       "if book.find (\"author\") > -1}\n",
       "\n",
       "\n",
       "- In case multiple items have the same \"author\".\n",
       "\n",
       " So, this expression essentially builds a nested generator where when yielded it produces values by iterating through all elements of `books` (`dict() or an array`)."
      ],
      "text/plain": [
       "<IPython.core.display.Markdown object>"
      ]
     },
     "metadata": {},
     "output_type": "display_data"
    }
   ],
   "source": [
    "llama_answer()"
   ]
  },
  {
   "cell_type": "code",
   "execution_count": null,
   "id": "3f47578d-119c-4f34-a487-bb50be18aa41",
   "metadata": {},
   "outputs": [],
   "source": [
    "response = ollama.chat(model=MODEL_LLAMA, messages=messages)\n",
    "reply = response['message']['content']\n",
    "display(Markdown(reply))"
   ]
  }
 ],
 "metadata": {
  "kernelspec": {
   "display_name": "Python 3 (ipykernel)",
   "language": "python",
   "name": "python3"
  },
  "language_info": {
   "codemirror_mode": {
    "name": "ipython",
    "version": 3
   },
   "file_extension": ".py",
   "mimetype": "text/x-python",
   "name": "python",
   "nbconvert_exporter": "python",
   "pygments_lexer": "ipython3",
   "version": "3.11.13"
  }
 },
 "nbformat": 4,
 "nbformat_minor": 5
}
